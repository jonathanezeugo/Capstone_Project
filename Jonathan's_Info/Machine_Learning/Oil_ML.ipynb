{
 "cells": [
  {
   "cell_type": "markdown",
   "metadata": {},
   "source": [
    "# Imports"
   ]
  },
  {
   "cell_type": "code",
   "execution_count": 1,
   "metadata": {},
   "outputs": [],
   "source": [
    "#Import Data Exploration Dependencies\n",
    "import pandas as pd\n",
    "import numpy as np\n",
    "import matplotlib.pyplot as plt\n",
    "import seaborn as sns\n",
    "\n",
    "pd.set_option('display.max_columns', None)"
   ]
  },
  {
   "cell_type": "markdown",
   "metadata": {},
   "source": [
    "# Data Gathering"
   ]
  },
  {
   "cell_type": "code",
   "execution_count": 2,
   "metadata": {},
   "outputs": [],
   "source": [
    "file = \"../Data/Capstone_Data.csv\""
   ]
  },
  {
   "cell_type": "code",
   "execution_count": 3,
   "metadata": {},
   "outputs": [],
   "source": [
    "oil_df = pd.read_csv(file)"
   ]
  },
  {
   "cell_type": "code",
   "execution_count": 4,
   "metadata": {},
   "outputs": [
    {
     "data": {
      "text/html": [
       "<div>\n",
       "<style scoped>\n",
       "    .dataframe tbody tr th:only-of-type {\n",
       "        vertical-align: middle;\n",
       "    }\n",
       "\n",
       "    .dataframe tbody tr th {\n",
       "        vertical-align: top;\n",
       "    }\n",
       "\n",
       "    .dataframe thead th {\n",
       "        text-align: right;\n",
       "    }\n",
       "</style>\n",
       "<table border=\"1\" class=\"dataframe\">\n",
       "  <thead>\n",
       "    <tr style=\"text-align: right;\">\n",
       "      <th></th>\n",
       "      <th>Year</th>\n",
       "      <th>Quarter</th>\n",
       "      <th>Canada_D</th>\n",
       "      <th>Europe_D</th>\n",
       "      <th>Japan_D</th>\n",
       "      <th>US_D</th>\n",
       "      <th>China_D</th>\n",
       "      <th>Soviet_D</th>\n",
       "      <th>Asia_D</th>\n",
       "      <th>Other_D</th>\n",
       "      <th>Total_World_D</th>\n",
       "      <th>Canada_S</th>\n",
       "      <th>Mexico_S</th>\n",
       "      <th>North_Sea_S</th>\n",
       "      <th>Other_S</th>\n",
       "      <th>US_S</th>\n",
       "      <th>China_S</th>\n",
       "      <th>Soviet_S</th>\n",
       "      <th>Other_S.1</th>\n",
       "      <th>OPEC_S</th>\n",
       "      <th>Total_World_S</th>\n",
       "      <th>OPEC_Crude_Oil_Portion</th>\n",
       "      <th>OPEC_Non_Crude_Portion</th>\n",
       "      <th>Total_OPEC</th>\n",
       "      <th>Brent_Crude_Price</th>\n",
       "      <th>Latin_America_Rigs</th>\n",
       "      <th>Europe_Rigs</th>\n",
       "      <th>Africa_Rigs</th>\n",
       "      <th>Middle_East_Rigs</th>\n",
       "      <th>Asia_Pacific_Rigs</th>\n",
       "      <th>Total_Intl_Rigs</th>\n",
       "      <th>Canada_Rigs</th>\n",
       "      <th>US_Rigs</th>\n",
       "    </tr>\n",
       "  </thead>\n",
       "  <tbody>\n",
       "    <tr>\n",
       "      <th>0</th>\n",
       "      <td>2019</td>\n",
       "      <td>Q3</td>\n",
       "      <td>2.57</td>\n",
       "      <td>15.44</td>\n",
       "      <td>3.43</td>\n",
       "      <td>20.88</td>\n",
       "      <td>14.37</td>\n",
       "      <td>5.58</td>\n",
       "      <td>13.74</td>\n",
       "      <td>26.24</td>\n",
       "      <td>102.25</td>\n",
       "      <td>5.47</td>\n",
       "      <td>1.93</td>\n",
       "      <td>2.96</td>\n",
       "      <td>4.64</td>\n",
       "      <td>19.45</td>\n",
       "      <td>4.89</td>\n",
       "      <td>14.58</td>\n",
       "      <td>15.33</td>\n",
       "      <td>33.88</td>\n",
       "      <td>100.17</td>\n",
       "      <td>28.65</td>\n",
       "      <td>5.24</td>\n",
       "      <td>33.88</td>\n",
       "      <td>61.95</td>\n",
       "      <td>195</td>\n",
       "      <td>190</td>\n",
       "      <td>114</td>\n",
       "      <td>422</td>\n",
       "      <td>224</td>\n",
       "      <td>1144</td>\n",
       "      <td>132</td>\n",
       "      <td>920</td>\n",
       "    </tr>\n",
       "    <tr>\n",
       "      <th>1</th>\n",
       "      <td>2019</td>\n",
       "      <td>Q2</td>\n",
       "      <td>2.32</td>\n",
       "      <td>14.95</td>\n",
       "      <td>3.39</td>\n",
       "      <td>20.63</td>\n",
       "      <td>14.65</td>\n",
       "      <td>5.19</td>\n",
       "      <td>14.11</td>\n",
       "      <td>25.77</td>\n",
       "      <td>101.00</td>\n",
       "      <td>5.47</td>\n",
       "      <td>1.91</td>\n",
       "      <td>2.96</td>\n",
       "      <td>4.59</td>\n",
       "      <td>19.35</td>\n",
       "      <td>4.92</td>\n",
       "      <td>14.43</td>\n",
       "      <td>14.88</td>\n",
       "      <td>34.91</td>\n",
       "      <td>100.49</td>\n",
       "      <td>29.48</td>\n",
       "      <td>5.44</td>\n",
       "      <td>34.91</td>\n",
       "      <td>69.04</td>\n",
       "      <td>186</td>\n",
       "      <td>159</td>\n",
       "      <td>122</td>\n",
       "      <td>412</td>\n",
       "      <td>230</td>\n",
       "      <td>1109</td>\n",
       "      <td>83</td>\n",
       "      <td>989</td>\n",
       "    </tr>\n",
       "    <tr>\n",
       "      <th>2</th>\n",
       "      <td>2019</td>\n",
       "      <td>Q1</td>\n",
       "      <td>2.31</td>\n",
       "      <td>14.82</td>\n",
       "      <td>4.06</td>\n",
       "      <td>20.55</td>\n",
       "      <td>14.46</td>\n",
       "      <td>5.15</td>\n",
       "      <td>13.95</td>\n",
       "      <td>25.22</td>\n",
       "      <td>100.49</td>\n",
       "      <td>5.43</td>\n",
       "      <td>1.91</td>\n",
       "      <td>2.96</td>\n",
       "      <td>4.85</td>\n",
       "      <td>18.86</td>\n",
       "      <td>4.89</td>\n",
       "      <td>14.86</td>\n",
       "      <td>14.12</td>\n",
       "      <td>35.39</td>\n",
       "      <td>100.34</td>\n",
       "      <td>29.95</td>\n",
       "      <td>5.44</td>\n",
       "      <td>35.39</td>\n",
       "      <td>63.10</td>\n",
       "      <td>188</td>\n",
       "      <td>92</td>\n",
       "      <td>116</td>\n",
       "      <td>398</td>\n",
       "      <td>235</td>\n",
       "      <td>1030</td>\n",
       "      <td>186</td>\n",
       "      <td>1046</td>\n",
       "    </tr>\n",
       "    <tr>\n",
       "      <th>3</th>\n",
       "      <td>2018</td>\n",
       "      <td>Q4</td>\n",
       "      <td>2.58</td>\n",
       "      <td>14.93</td>\n",
       "      <td>3.89</td>\n",
       "      <td>20.75</td>\n",
       "      <td>14.10</td>\n",
       "      <td>5.36</td>\n",
       "      <td>13.82</td>\n",
       "      <td>25.29</td>\n",
       "      <td>100.73</td>\n",
       "      <td>5.62</td>\n",
       "      <td>1.95</td>\n",
       "      <td>2.95</td>\n",
       "      <td>4.89</td>\n",
       "      <td>19.03</td>\n",
       "      <td>4.81</td>\n",
       "      <td>14.88</td>\n",
       "      <td>14.49</td>\n",
       "      <td>36.74</td>\n",
       "      <td>102.42</td>\n",
       "      <td>31.42</td>\n",
       "      <td>5.32</td>\n",
       "      <td>36.74</td>\n",
       "      <td>68.76</td>\n",
       "      <td>193</td>\n",
       "      <td>90</td>\n",
       "      <td>106</td>\n",
       "      <td>397</td>\n",
       "      <td>225</td>\n",
       "      <td>1011</td>\n",
       "      <td>177</td>\n",
       "      <td>1072</td>\n",
       "    </tr>\n",
       "    <tr>\n",
       "      <th>4</th>\n",
       "      <td>2018</td>\n",
       "      <td>Q3</td>\n",
       "      <td>2.65</td>\n",
       "      <td>15.47</td>\n",
       "      <td>3.53</td>\n",
       "      <td>20.86</td>\n",
       "      <td>13.88</td>\n",
       "      <td>5.50</td>\n",
       "      <td>13.48</td>\n",
       "      <td>25.88</td>\n",
       "      <td>101.25</td>\n",
       "      <td>5.41</td>\n",
       "      <td>2.09</td>\n",
       "      <td>2.84</td>\n",
       "      <td>4.65</td>\n",
       "      <td>18.44</td>\n",
       "      <td>4.73</td>\n",
       "      <td>14.63</td>\n",
       "      <td>14.81</td>\n",
       "      <td>36.81</td>\n",
       "      <td>101.57</td>\n",
       "      <td>31.50</td>\n",
       "      <td>5.32</td>\n",
       "      <td>36.81</td>\n",
       "      <td>75.07</td>\n",
       "      <td>191</td>\n",
       "      <td>84</td>\n",
       "      <td>104</td>\n",
       "      <td>399</td>\n",
       "      <td>225</td>\n",
       "      <td>1003</td>\n",
       "      <td>208</td>\n",
       "      <td>1051</td>\n",
       "    </tr>\n",
       "  </tbody>\n",
       "</table>\n",
       "</div>"
      ],
      "text/plain": [
       "   Year Quarter  Canada_D  Europe_D  Japan_D   US_D  China_D  Soviet_D  \\\n",
       "0  2019      Q3      2.57     15.44     3.43  20.88    14.37      5.58   \n",
       "1  2019      Q2      2.32     14.95     3.39  20.63    14.65      5.19   \n",
       "2  2019      Q1      2.31     14.82     4.06  20.55    14.46      5.15   \n",
       "3  2018      Q4      2.58     14.93     3.89  20.75    14.10      5.36   \n",
       "4  2018      Q3      2.65     15.47     3.53  20.86    13.88      5.50   \n",
       "\n",
       "   Asia_D  Other_D  Total_World_D  Canada_S  Mexico_S  North_Sea_S  Other_S  \\\n",
       "0   13.74    26.24         102.25      5.47      1.93         2.96     4.64   \n",
       "1   14.11    25.77         101.00      5.47      1.91         2.96     4.59   \n",
       "2   13.95    25.22         100.49      5.43      1.91         2.96     4.85   \n",
       "3   13.82    25.29         100.73      5.62      1.95         2.95     4.89   \n",
       "4   13.48    25.88         101.25      5.41      2.09         2.84     4.65   \n",
       "\n",
       "    US_S  China_S  Soviet_S  Other_S.1  OPEC_S  Total_World_S  \\\n",
       "0  19.45     4.89     14.58      15.33   33.88         100.17   \n",
       "1  19.35     4.92     14.43      14.88   34.91         100.49   \n",
       "2  18.86     4.89     14.86      14.12   35.39         100.34   \n",
       "3  19.03     4.81     14.88      14.49   36.74         102.42   \n",
       "4  18.44     4.73     14.63      14.81   36.81         101.57   \n",
       "\n",
       "   OPEC_Crude_Oil_Portion  OPEC_Non_Crude_Portion  Total_OPEC  \\\n",
       "0                   28.65                    5.24       33.88   \n",
       "1                   29.48                    5.44       34.91   \n",
       "2                   29.95                    5.44       35.39   \n",
       "3                   31.42                    5.32       36.74   \n",
       "4                   31.50                    5.32       36.81   \n",
       "\n",
       "   Brent_Crude_Price  Latin_America_Rigs  Europe_Rigs  Africa_Rigs  \\\n",
       "0              61.95                 195          190          114   \n",
       "1              69.04                 186          159          122   \n",
       "2              63.10                 188           92          116   \n",
       "3              68.76                 193           90          106   \n",
       "4              75.07                 191           84          104   \n",
       "\n",
       "   Middle_East_Rigs  Asia_Pacific_Rigs  Total_Intl_Rigs  Canada_Rigs  US_Rigs  \n",
       "0               422                224             1144          132      920  \n",
       "1               412                230             1109           83      989  \n",
       "2               398                235             1030          186     1046  \n",
       "3               397                225             1011          177     1072  \n",
       "4               399                225             1003          208     1051  "
      ]
     },
     "execution_count": 4,
     "metadata": {},
     "output_type": "execute_result"
    }
   ],
   "source": [
    "oil_df.head()"
   ]
  },
  {
   "cell_type": "markdown",
   "metadata": {},
   "source": [
    "# Explore Data Set"
   ]
  },
  {
   "cell_type": "code",
   "execution_count": 5,
   "metadata": {},
   "outputs": [
    {
     "name": "stdout",
     "output_type": "stream",
     "text": [
      "<class 'pandas.core.frame.DataFrame'>\n",
      "RangeIndex: 103 entries, 0 to 102\n",
      "Data columns (total 33 columns):\n",
      " #   Column                  Non-Null Count  Dtype  \n",
      "---  ------                  --------------  -----  \n",
      " 0   Year                    103 non-null    int64  \n",
      " 1   Quarter                 103 non-null    object \n",
      " 2   Canada_D                103 non-null    float64\n",
      " 3   Europe_D                103 non-null    float64\n",
      " 4   Japan_D                 103 non-null    float64\n",
      " 5   US_D                    103 non-null    float64\n",
      " 6   China_D                 103 non-null    float64\n",
      " 7   Soviet_D                103 non-null    float64\n",
      " 8   Asia_D                  103 non-null    float64\n",
      " 9   Other_D                 103 non-null    float64\n",
      " 10  Total_World_D           103 non-null    float64\n",
      " 11  Canada_S                103 non-null    float64\n",
      " 12  Mexico_S                103 non-null    float64\n",
      " 13  North_Sea_S             103 non-null    float64\n",
      " 14  Other_S                 103 non-null    float64\n",
      " 15  US_S                    103 non-null    float64\n",
      " 16  China_S                 103 non-null    float64\n",
      " 17  Soviet_S                103 non-null    float64\n",
      " 18  Other_S.1               103 non-null    float64\n",
      " 19  OPEC_S                  103 non-null    float64\n",
      " 20  Total_World_S           103 non-null    float64\n",
      " 21  OPEC_Crude_Oil_Portion  103 non-null    float64\n",
      " 22  OPEC_Non_Crude_Portion  103 non-null    float64\n",
      " 23  Total_OPEC              103 non-null    float64\n",
      " 24  Brent_Crude_Price       103 non-null    float64\n",
      " 25  Latin_America_Rigs      103 non-null    int64  \n",
      " 26  Europe_Rigs             103 non-null    int64  \n",
      " 27  Africa_Rigs             103 non-null    int64  \n",
      " 28  Middle_East_Rigs        103 non-null    int64  \n",
      " 29  Asia_Pacific_Rigs       103 non-null    int64  \n",
      " 30  Total_Intl_Rigs         103 non-null    int64  \n",
      " 31  Canada_Rigs             103 non-null    int64  \n",
      " 32  US_Rigs                 103 non-null    int64  \n",
      "dtypes: float64(23), int64(9), object(1)\n",
      "memory usage: 26.7+ KB\n"
     ]
    }
   ],
   "source": [
    "oil_df.info()"
   ]
  },
  {
   "cell_type": "code",
   "execution_count": 6,
   "metadata": {},
   "outputs": [
    {
     "data": {
      "text/html": [
       "<div>\n",
       "<style scoped>\n",
       "    .dataframe tbody tr th:only-of-type {\n",
       "        vertical-align: middle;\n",
       "    }\n",
       "\n",
       "    .dataframe tbody tr th {\n",
       "        vertical-align: top;\n",
       "    }\n",
       "\n",
       "    .dataframe thead th {\n",
       "        text-align: right;\n",
       "    }\n",
       "</style>\n",
       "<table border=\"1\" class=\"dataframe\">\n",
       "  <thead>\n",
       "    <tr style=\"text-align: right;\">\n",
       "      <th></th>\n",
       "      <th>Year</th>\n",
       "      <th>Canada_D</th>\n",
       "      <th>Europe_D</th>\n",
       "      <th>Japan_D</th>\n",
       "      <th>US_D</th>\n",
       "      <th>China_D</th>\n",
       "      <th>Soviet_D</th>\n",
       "      <th>Asia_D</th>\n",
       "      <th>Other_D</th>\n",
       "      <th>Total_World_D</th>\n",
       "      <th>Canada_S</th>\n",
       "      <th>Mexico_S</th>\n",
       "      <th>North_Sea_S</th>\n",
       "      <th>Other_S</th>\n",
       "      <th>US_S</th>\n",
       "      <th>China_S</th>\n",
       "      <th>Soviet_S</th>\n",
       "      <th>Other_S.1</th>\n",
       "      <th>OPEC_S</th>\n",
       "      <th>Total_World_S</th>\n",
       "      <th>OPEC_Crude_Oil_Portion</th>\n",
       "      <th>OPEC_Non_Crude_Portion</th>\n",
       "      <th>Total_OPEC</th>\n",
       "      <th>Brent_Crude_Price</th>\n",
       "      <th>Latin_America_Rigs</th>\n",
       "      <th>Europe_Rigs</th>\n",
       "      <th>Africa_Rigs</th>\n",
       "      <th>Middle_East_Rigs</th>\n",
       "      <th>Asia_Pacific_Rigs</th>\n",
       "      <th>Total_Intl_Rigs</th>\n",
       "      <th>Canada_Rigs</th>\n",
       "      <th>US_Rigs</th>\n",
       "    </tr>\n",
       "  </thead>\n",
       "  <tbody>\n",
       "    <tr>\n",
       "      <th>count</th>\n",
       "      <td>103.000000</td>\n",
       "      <td>103.000000</td>\n",
       "      <td>103.000000</td>\n",
       "      <td>103.000000</td>\n",
       "      <td>103.000000</td>\n",
       "      <td>103.00000</td>\n",
       "      <td>103.000000</td>\n",
       "      <td>103.000000</td>\n",
       "      <td>103.000000</td>\n",
       "      <td>103.000000</td>\n",
       "      <td>103.000000</td>\n",
       "      <td>103.000000</td>\n",
       "      <td>103.000000</td>\n",
       "      <td>103.000000</td>\n",
       "      <td>103.000000</td>\n",
       "      <td>103.000000</td>\n",
       "      <td>103.000000</td>\n",
       "      <td>103.000000</td>\n",
       "      <td>103.000000</td>\n",
       "      <td>103.000000</td>\n",
       "      <td>103.000000</td>\n",
       "      <td>103.000000</td>\n",
       "      <td>103.000000</td>\n",
       "      <td>103.000000</td>\n",
       "      <td>103.000000</td>\n",
       "      <td>103.000000</td>\n",
       "      <td>103.000000</td>\n",
       "      <td>103.000000</td>\n",
       "      <td>103.000000</td>\n",
       "      <td>103.000000</td>\n",
       "      <td>103.000000</td>\n",
       "      <td>103.000000</td>\n",
       "    </tr>\n",
       "    <tr>\n",
       "      <th>mean</th>\n",
       "      <td>2006.378641</td>\n",
       "      <td>2.209515</td>\n",
       "      <td>15.511359</td>\n",
       "      <td>4.922330</td>\n",
       "      <td>19.708738</td>\n",
       "      <td>7.89000</td>\n",
       "      <td>4.320485</td>\n",
       "      <td>9.361650</td>\n",
       "      <td>20.525728</td>\n",
       "      <td>84.446990</td>\n",
       "      <td>3.472913</td>\n",
       "      <td>3.136505</td>\n",
       "      <td>4.648738</td>\n",
       "      <td>2.436214</td>\n",
       "      <td>10.820583</td>\n",
       "      <td>3.986214</td>\n",
       "      <td>11.256214</td>\n",
       "      <td>11.658155</td>\n",
       "      <td>33.821650</td>\n",
       "      <td>84.453495</td>\n",
       "      <td>29.471748</td>\n",
       "      <td>4.350971</td>\n",
       "      <td>33.821650</td>\n",
       "      <td>53.548835</td>\n",
       "      <td>293.019417</td>\n",
       "      <td>99.737864</td>\n",
       "      <td>75.271845</td>\n",
       "      <td>259.854369</td>\n",
       "      <td>207.737864</td>\n",
       "      <td>935.737864</td>\n",
       "      <td>306.669903</td>\n",
       "      <td>1190.038835</td>\n",
       "    </tr>\n",
       "    <tr>\n",
       "      <th>std</th>\n",
       "      <td>7.470355</td>\n",
       "      <td>0.221613</td>\n",
       "      <td>0.759512</td>\n",
       "      <td>0.777944</td>\n",
       "      <td>0.918108</td>\n",
       "      <td>3.57459</td>\n",
       "      <td>0.482691</td>\n",
       "      <td>2.472779</td>\n",
       "      <td>3.671843</td>\n",
       "      <td>9.478345</td>\n",
       "      <td>0.883869</td>\n",
       "      <td>0.512389</td>\n",
       "      <td>1.361103</td>\n",
       "      <td>1.390549</td>\n",
       "      <td>3.050705</td>\n",
       "      <td>0.679246</td>\n",
       "      <td>2.783294</td>\n",
       "      <td>1.918736</td>\n",
       "      <td>2.817496</td>\n",
       "      <td>9.402470</td>\n",
       "      <td>1.750876</td>\n",
       "      <td>1.272196</td>\n",
       "      <td>2.817496</td>\n",
       "      <td>33.082288</td>\n",
       "      <td>79.903003</td>\n",
       "      <td>22.631733</td>\n",
       "      <td>24.813498</td>\n",
       "      <td>98.253514</td>\n",
       "      <td>37.689381</td>\n",
       "      <td>201.976166</td>\n",
       "      <td>138.513989</td>\n",
       "      <td>448.980303</td>\n",
       "    </tr>\n",
       "    <tr>\n",
       "      <th>min</th>\n",
       "      <td>1994.000000</td>\n",
       "      <td>1.700000</td>\n",
       "      <td>13.750000</td>\n",
       "      <td>3.390000</td>\n",
       "      <td>17.780000</td>\n",
       "      <td>3.03000</td>\n",
       "      <td>3.390000</td>\n",
       "      <td>5.310000</td>\n",
       "      <td>14.620000</td>\n",
       "      <td>67.170000</td>\n",
       "      <td>2.270000</td>\n",
       "      <td>1.910000</td>\n",
       "      <td>2.710000</td>\n",
       "      <td>1.430000</td>\n",
       "      <td>7.740000</td>\n",
       "      <td>2.930000</td>\n",
       "      <td>7.010000</td>\n",
       "      <td>8.030000</td>\n",
       "      <td>28.150000</td>\n",
       "      <td>68.070000</td>\n",
       "      <td>25.700000</td>\n",
       "      <td>1.810000</td>\n",
       "      <td>28.150000</td>\n",
       "      <td>11.210000</td>\n",
       "      <td>180.000000</td>\n",
       "      <td>61.000000</td>\n",
       "      <td>37.000000</td>\n",
       "      <td>112.000000</td>\n",
       "      <td>129.000000</td>\n",
       "      <td>565.000000</td>\n",
       "      <td>49.000000</td>\n",
       "      <td>421.000000</td>\n",
       "    </tr>\n",
       "    <tr>\n",
       "      <th>25%</th>\n",
       "      <td>2000.000000</td>\n",
       "      <td>2.040000</td>\n",
       "      <td>14.930000</td>\n",
       "      <td>4.325000</td>\n",
       "      <td>19.005000</td>\n",
       "      <td>4.72000</td>\n",
       "      <td>3.950000</td>\n",
       "      <td>7.320000</td>\n",
       "      <td>17.380000</td>\n",
       "      <td>76.790000</td>\n",
       "      <td>2.750000</td>\n",
       "      <td>2.915000</td>\n",
       "      <td>3.170000</td>\n",
       "      <td>1.565000</td>\n",
       "      <td>8.845000</td>\n",
       "      <td>3.380000</td>\n",
       "      <td>8.140000</td>\n",
       "      <td>10.090000</td>\n",
       "      <td>31.330000</td>\n",
       "      <td>76.540000</td>\n",
       "      <td>28.035000</td>\n",
       "      <td>3.255000</td>\n",
       "      <td>31.330000</td>\n",
       "      <td>24.545000</td>\n",
       "      <td>222.500000</td>\n",
       "      <td>82.500000</td>\n",
       "      <td>57.000000</td>\n",
       "      <td>168.500000</td>\n",
       "      <td>178.500000</td>\n",
       "      <td>763.000000</td>\n",
       "      <td>189.500000</td>\n",
       "      <td>832.000000</td>\n",
       "    </tr>\n",
       "    <tr>\n",
       "      <th>50%</th>\n",
       "      <td>2006.000000</td>\n",
       "      <td>2.250000</td>\n",
       "      <td>15.580000</td>\n",
       "      <td>4.960000</td>\n",
       "      <td>19.650000</td>\n",
       "      <td>7.28000</td>\n",
       "      <td>4.230000</td>\n",
       "      <td>9.000000</td>\n",
       "      <td>20.100000</td>\n",
       "      <td>84.720000</td>\n",
       "      <td>3.290000</td>\n",
       "      <td>3.180000</td>\n",
       "      <td>4.720000</td>\n",
       "      <td>1.650000</td>\n",
       "      <td>9.390000</td>\n",
       "      <td>3.880000</td>\n",
       "      <td>12.450000</td>\n",
       "      <td>12.120000</td>\n",
       "      <td>34.510000</td>\n",
       "      <td>84.430000</td>\n",
       "      <td>29.860000</td>\n",
       "      <td>4.230000</td>\n",
       "      <td>34.510000</td>\n",
       "      <td>49.550000</td>\n",
       "      <td>280.000000</td>\n",
       "      <td>94.000000</td>\n",
       "      <td>68.000000</td>\n",
       "      <td>250.000000</td>\n",
       "      <td>211.000000</td>\n",
       "      <td>936.000000</td>\n",
       "      <td>291.000000</td>\n",
       "      <td>1046.000000</td>\n",
       "    </tr>\n",
       "    <tr>\n",
       "      <th>75%</th>\n",
       "      <td>2013.000000</td>\n",
       "      <td>2.385000</td>\n",
       "      <td>16.150000</td>\n",
       "      <td>5.435000</td>\n",
       "      <td>20.360000</td>\n",
       "      <td>10.86000</td>\n",
       "      <td>4.695000</td>\n",
       "      <td>11.535000</td>\n",
       "      <td>24.530000</td>\n",
       "      <td>91.635000</td>\n",
       "      <td>4.010000</td>\n",
       "      <td>3.550000</td>\n",
       "      <td>6.010000</td>\n",
       "      <td>4.335000</td>\n",
       "      <td>11.910000</td>\n",
       "      <td>4.745000</td>\n",
       "      <td>13.705000</td>\n",
       "      <td>12.725000</td>\n",
       "      <td>36.450000</td>\n",
       "      <td>90.985000</td>\n",
       "      <td>30.935000</td>\n",
       "      <td>5.315000</td>\n",
       "      <td>36.450000</td>\n",
       "      <td>74.660000</td>\n",
       "      <td>356.000000</td>\n",
       "      <td>112.000000</td>\n",
       "      <td>84.500000</td>\n",
       "      <td>375.500000</td>\n",
       "      <td>241.000000</td>\n",
       "      <td>1089.000000</td>\n",
       "      <td>406.000000</td>\n",
       "      <td>1701.500000</td>\n",
       "    </tr>\n",
       "    <tr>\n",
       "      <th>max</th>\n",
       "      <td>2019.000000</td>\n",
       "      <td>2.650000</td>\n",
       "      <td>16.750000</td>\n",
       "      <td>6.430000</td>\n",
       "      <td>21.310000</td>\n",
       "      <td>14.65000</td>\n",
       "      <td>5.580000</td>\n",
       "      <td>14.110000</td>\n",
       "      <td>26.240000</td>\n",
       "      <td>102.250000</td>\n",
       "      <td>5.620000</td>\n",
       "      <td>3.900000</td>\n",
       "      <td>6.670000</td>\n",
       "      <td>5.090000</td>\n",
       "      <td>19.450000</td>\n",
       "      <td>5.210000</td>\n",
       "      <td>14.880000</td>\n",
       "      <td>15.330000</td>\n",
       "      <td>37.720000</td>\n",
       "      <td>102.420000</td>\n",
       "      <td>32.210000</td>\n",
       "      <td>6.560000</td>\n",
       "      <td>37.720000</td>\n",
       "      <td>121.200000</td>\n",
       "      <td>438.000000</td>\n",
       "      <td>190.000000</td>\n",
       "      <td>142.000000</td>\n",
       "      <td>422.000000</td>\n",
       "      <td>277.000000</td>\n",
       "      <td>1348.000000</td>\n",
       "      <td>665.000000</td>\n",
       "      <td>2010.000000</td>\n",
       "    </tr>\n",
       "  </tbody>\n",
       "</table>\n",
       "</div>"
      ],
      "text/plain": [
       "              Year    Canada_D    Europe_D     Japan_D        US_D    China_D  \\\n",
       "count   103.000000  103.000000  103.000000  103.000000  103.000000  103.00000   \n",
       "mean   2006.378641    2.209515   15.511359    4.922330   19.708738    7.89000   \n",
       "std       7.470355    0.221613    0.759512    0.777944    0.918108    3.57459   \n",
       "min    1994.000000    1.700000   13.750000    3.390000   17.780000    3.03000   \n",
       "25%    2000.000000    2.040000   14.930000    4.325000   19.005000    4.72000   \n",
       "50%    2006.000000    2.250000   15.580000    4.960000   19.650000    7.28000   \n",
       "75%    2013.000000    2.385000   16.150000    5.435000   20.360000   10.86000   \n",
       "max    2019.000000    2.650000   16.750000    6.430000   21.310000   14.65000   \n",
       "\n",
       "         Soviet_D      Asia_D     Other_D  Total_World_D    Canada_S  \\\n",
       "count  103.000000  103.000000  103.000000     103.000000  103.000000   \n",
       "mean     4.320485    9.361650   20.525728      84.446990    3.472913   \n",
       "std      0.482691    2.472779    3.671843       9.478345    0.883869   \n",
       "min      3.390000    5.310000   14.620000      67.170000    2.270000   \n",
       "25%      3.950000    7.320000   17.380000      76.790000    2.750000   \n",
       "50%      4.230000    9.000000   20.100000      84.720000    3.290000   \n",
       "75%      4.695000   11.535000   24.530000      91.635000    4.010000   \n",
       "max      5.580000   14.110000   26.240000     102.250000    5.620000   \n",
       "\n",
       "         Mexico_S  North_Sea_S     Other_S        US_S     China_S  \\\n",
       "count  103.000000   103.000000  103.000000  103.000000  103.000000   \n",
       "mean     3.136505     4.648738    2.436214   10.820583    3.986214   \n",
       "std      0.512389     1.361103    1.390549    3.050705    0.679246   \n",
       "min      1.910000     2.710000    1.430000    7.740000    2.930000   \n",
       "25%      2.915000     3.170000    1.565000    8.845000    3.380000   \n",
       "50%      3.180000     4.720000    1.650000    9.390000    3.880000   \n",
       "75%      3.550000     6.010000    4.335000   11.910000    4.745000   \n",
       "max      3.900000     6.670000    5.090000   19.450000    5.210000   \n",
       "\n",
       "         Soviet_S   Other_S.1      OPEC_S  Total_World_S  \\\n",
       "count  103.000000  103.000000  103.000000     103.000000   \n",
       "mean    11.256214   11.658155   33.821650      84.453495   \n",
       "std      2.783294    1.918736    2.817496       9.402470   \n",
       "min      7.010000    8.030000   28.150000      68.070000   \n",
       "25%      8.140000   10.090000   31.330000      76.540000   \n",
       "50%     12.450000   12.120000   34.510000      84.430000   \n",
       "75%     13.705000   12.725000   36.450000      90.985000   \n",
       "max     14.880000   15.330000   37.720000     102.420000   \n",
       "\n",
       "       OPEC_Crude_Oil_Portion  OPEC_Non_Crude_Portion  Total_OPEC  \\\n",
       "count              103.000000              103.000000  103.000000   \n",
       "mean                29.471748                4.350971   33.821650   \n",
       "std                  1.750876                1.272196    2.817496   \n",
       "min                 25.700000                1.810000   28.150000   \n",
       "25%                 28.035000                3.255000   31.330000   \n",
       "50%                 29.860000                4.230000   34.510000   \n",
       "75%                 30.935000                5.315000   36.450000   \n",
       "max                 32.210000                6.560000   37.720000   \n",
       "\n",
       "       Brent_Crude_Price  Latin_America_Rigs  Europe_Rigs  Africa_Rigs  \\\n",
       "count         103.000000          103.000000   103.000000   103.000000   \n",
       "mean           53.548835          293.019417    99.737864    75.271845   \n",
       "std            33.082288           79.903003    22.631733    24.813498   \n",
       "min            11.210000          180.000000    61.000000    37.000000   \n",
       "25%            24.545000          222.500000    82.500000    57.000000   \n",
       "50%            49.550000          280.000000    94.000000    68.000000   \n",
       "75%            74.660000          356.000000   112.000000    84.500000   \n",
       "max           121.200000          438.000000   190.000000   142.000000   \n",
       "\n",
       "       Middle_East_Rigs  Asia_Pacific_Rigs  Total_Intl_Rigs  Canada_Rigs  \\\n",
       "count        103.000000         103.000000       103.000000   103.000000   \n",
       "mean         259.854369         207.737864       935.737864   306.669903   \n",
       "std           98.253514          37.689381       201.976166   138.513989   \n",
       "min          112.000000         129.000000       565.000000    49.000000   \n",
       "25%          168.500000         178.500000       763.000000   189.500000   \n",
       "50%          250.000000         211.000000       936.000000   291.000000   \n",
       "75%          375.500000         241.000000      1089.000000   406.000000   \n",
       "max          422.000000         277.000000      1348.000000   665.000000   \n",
       "\n",
       "           US_Rigs  \n",
       "count   103.000000  \n",
       "mean   1190.038835  \n",
       "std     448.980303  \n",
       "min     421.000000  \n",
       "25%     832.000000  \n",
       "50%    1046.000000  \n",
       "75%    1701.500000  \n",
       "max    2010.000000  "
      ]
     },
     "execution_count": 6,
     "metadata": {},
     "output_type": "execute_result"
    }
   ],
   "source": [
    "oil_df.describe()"
   ]
  },
  {
   "cell_type": "code",
   "execution_count": 7,
   "metadata": {},
   "outputs": [
    {
     "data": {
      "image/png": "[encoded data removed]",
      "text/plain": [
       "<Figure size 720x432 with 1 Axes>"
      ]
     },
     "metadata": {
      "needs_background": "light"
     },
     "output_type": "display_data"
    },
    {
     "data": {
      "image/png": "[encoded data removed]",
      "text/plain": [
       "<Figure size 720x432 with 1 Axes>"
      ]
     },
     "metadata": {
      "needs_background": "light"
     },
     "output_type": "display_data"
    },
    {
     "data": {
      "image/png": "[encoded data removed]",
      "text/plain": [
       "<Figure size 720x432 with 1 Axes>"
      ]
     },
     "metadata": {
      "needs_background": "light"
     },
     "output_type": "display_data"
    },
    {
     "data": {
      "image/png": "[encoded data removed]",
      "text/plain": [
       "<Figure size 720x432 with 1 Axes>"
      ]
     },
     "metadata": {
      "needs_background": "light"
     },
     "output_type": "display_data"
    },
    {
     "data": {
      "image/png": "[encoded data removed]",
      "text/plain": [
       "<Figure size 720x432 with 1 Axes>"
      ]
     },
     "metadata": {
      "needs_background": "light"
     },
     "output_type": "display_data"
    },
    {
     "data": {
      "image/png": "[encoded data removed]",
      "text/plain": [
       "<Figure size 720x432 with 1 Axes>"
      ]
     },
     "metadata": {
      "needs_background": "light"
     },
     "output_type": "display_data"
    },
    {
     "data": {
      "image/png": "[encoded data removed]",
      "text/plain": [
       "<Figure size 720x432 with 1 Axes>"
      ]
     },
     "metadata": {
      "needs_background": "light"
     },
     "output_type": "display_data"
    },
    {
     "data": {
      "image/png": "[encoded data removed]",
      "text/plain": [
       "<Figure size 720x432 with 1 Axes>"
      ]
     },
     "metadata": {
      "needs_background": "light"
     },
     "output_type": "display_data"
    },
    {
     "data": {
      "image/png": "[encoded data removed]",
      "text/plain": [
       "<Figure size 720x432 with 1 Axes>"
      ]
     },
     "metadata": {
      "needs_background": "light"
     },
     "output_type": "display_data"
    },
    {
     "data": {
      "image/png": "[encoded data removed]",
      "text/plain": [
       "<Figure size 720x432 with 1 Axes>"
      ]
     },
     "metadata": {
      "needs_background": "light"
     },
     "output_type": "display_data"
    },
    {
     "data": {
      "image/png": "[encoded data removed]",
      "text/plain": [
       "<Figure size 720x432 with 1 Axes>"
      ]
     },
     "metadata": {
      "needs_background": "light"
     },
     "output_type": "display_data"
    },
    {
     "data": {
      "image/png": "[encoded data removed]",
      "text/plain": [
       "<Figure size 720x432 with 1 Axes>"
      ]
     },
     "metadata": {
      "needs_background": "light"
     },
     "output_type": "display_data"
    },
    {
     "data": {
      "image/png": "[encoded data removed]",
      "text/plain": [
       "<Figure size 720x432 with 1 Axes>"
      ]
     },
     "metadata": {
      "needs_background": "light"
     },
     "output_type": "display_data"
    },
    {
     "data": {
      "image/png": "[encoded data removed]",
      "text/plain": [
       "<Figure size 720x432 with 1 Axes>"
      ]
     },
     "metadata": {
      "needs_background": "light"
     },
     "output_type": "display_data"
    },
    {
     "data": {
      "image/png": "[encoded data removed]",
      "text/plain": [
       "<Figure size 720x432 with 1 Axes>"
      ]
     },
     "metadata": {
      "needs_background": "light"
     },
     "output_type": "display_data"
    },
    {
     "data": {
      "image/png": "[encoded data removed]",
      "text/plain": [
       "<Figure size 720x432 with 1 Axes>"
      ]
     },
     "metadata": {
      "needs_background": "light"
     },
     "output_type": "display_data"
    },
    {
     "data": {
      "image/png": "[encoded data removed]",
      "text/plain": [
       "<Figure size 720x432 with 1 Axes>"
      ]
     },
     "metadata": {
      "needs_background": "light"
     },
     "output_type": "display_data"
    },
    {
     "data": {
      "image/png": "[encoded data removed]",
      "text/plain": [
       "<Figure size 720x432 with 1 Axes>"
      ]
     },
     "metadata": {
      "needs_background": "light"
     },
     "output_type": "display_data"
    },
    {
     "data": {
      "image/png": "[encoded data removed]",
      "text/plain": [
       "<Figure size 720x432 with 1 Axes>"
      ]
     },
     "metadata": {
      "needs_background": "light"
     },
     "output_type": "display_data"
    },
    {
     "data": {
      "image/png": "[encoded data removed]",
      "text/plain": [
       "<Figure size 720x432 with 1 Axes>"
      ]
     },
     "metadata": {
      "needs_background": "light"
     },
     "output_type": "display_data"
    },
    {
     "data": {
      "image/png": "[encoded data removed]",
      "text/plain": [
       "<Figure size 720x432 with 1 Axes>"
      ]
     },
     "metadata": {
      "needs_background": "light"
     },
     "output_type": "display_data"
    },
    {
     "data": {
      "image/png": "[encoded data removed]",
      "text/plain": [
       "<Figure size 720x432 with 1 Axes>"
      ]
     },
     "metadata": {
      "needs_background": "light"
     },
     "output_type": "display_data"
    },
    {
     "data": {
      "image/png": "[encoded data removed]",
      "text/plain": [
       "<Figure size 720x432 with 1 Axes>"
      ]
     },
     "metadata": {
      "needs_background": "light"
     },
     "output_type": "display_data"
    },
    {
     "data": {
      "image/png": "[encoded data removed]",
      "text/plain": [
       "<Figure size 720x432 with 1 Axes>"
      ]
     },
     "metadata": {
      "needs_background": "light"
     },
     "output_type": "display_data"
    },
    {
     "data": {
      "image/png": "[encoded data removed]",
      "text/plain": [
       "<Figure size 720x432 with 1 Axes>"
      ]
     },
     "metadata": {
      "needs_background": "light"
     },
     "output_type": "display_data"
    },
    {
     "data": {
      "image/png": "[encoded data removed]",
      "text/plain": [
       "<Figure size 720x432 with 1 Axes>"
      ]
     },
     "metadata": {
      "needs_background": "light"
     },
     "output_type": "display_data"
    },
    {
     "data": {
      "image/png": "[encoded data removed]",
      "text/plain": [
       "<Figure size 720x432 with 1 Axes>"
      ]
     },
     "metadata": {
      "needs_background": "light"
     },
     "output_type": "display_data"
    },
    {
     "data": {
      "image/png": "[encoded data removed]",
      "text/plain": [
       "<Figure size 720x432 with 1 Axes>"
      ]
     },
     "metadata": {
      "needs_background": "light"
     },
     "output_type": "display_data"
    },
    {
     "data": {
      "image/png": "[encoded data removed]",
      "text/plain": [
       "<Figure size 720x432 with 1 Axes>"
      ]
     },
     "metadata": {
      "needs_background": "light"
     },
     "output_type": "display_data"
    },
    {
     "data": {
      "image/png": "[encoded data removed]",
      "text/plain": [
       "<Figure size 720x432 with 1 Axes>"
      ]
     },
     "metadata": {
      "needs_background": "light"
     },
     "output_type": "display_data"
    },
    {
     "data": {
      "image/png": "[encoded data removed]",
      "text/plain": [
       "<Figure size 720x432 with 1 Axes>"
      ]
     },
     "metadata": {
      "needs_background": "light"
     },
     "output_type": "display_data"
    },
    {
     "data": {
      "image/png": "[encoded data removed]",
      "text/plain": [
       "<Figure size 720x432 with 1 Axes>"
      ]
     },
     "metadata": {
      "needs_background": "light"
     },
     "output_type": "display_data"
    },
    {
     "data": {
      "image/png": "[encoded data removed]",
      "text/plain": [
       "<Figure size 720x432 with 1 Axes>"
      ]
     },
     "metadata": {
      "needs_background": "light"
     },
     "output_type": "display_data"
    }
   ],
   "source": [
    "for col in oil_df.columns:\n",
    "    plt.figure(figsize=(10,6))\n",
    "    plt.hist(oil_df[col])\n",
    "    plt.title(col, fontsize=16, fontweight=\"bold\")\n",
    "    plt.ylabel(\"Count\")\n",
    "    plt.xlabel(col)\n",
    "    plt.show()"
   ]
  },
  {
   "cell_type": "markdown",
   "metadata": {},
   "source": [
    "# Data Cleaning"
   ]
  },
  {
   "cell_type": "code",
   "execution_count": 8,
   "metadata": {},
   "outputs": [
    {
     "data": {
      "text/html": [
       "<div>\n",
       "<style scoped>\n",
       "    .dataframe tbody tr th:only-of-type {\n",
       "        vertical-align: middle;\n",
       "    }\n",
       "\n",
       "    .dataframe tbody tr th {\n",
       "        vertical-align: top;\n",
       "    }\n",
       "\n",
       "    .dataframe thead th {\n",
       "        text-align: right;\n",
       "    }\n",
       "</style>\n",
       "<table border=\"1\" class=\"dataframe\">\n",
       "  <thead>\n",
       "    <tr style=\"text-align: right;\">\n",
       "      <th></th>\n",
       "      <th>Year</th>\n",
       "      <th>Quarter</th>\n",
       "      <th>Canada_D</th>\n",
       "      <th>Europe_D</th>\n",
       "      <th>Japan_D</th>\n",
       "      <th>US_D</th>\n",
       "      <th>China_D</th>\n",
       "      <th>Soviet_D</th>\n",
       "      <th>Asia_D</th>\n",
       "      <th>Other_D</th>\n",
       "      <th>Total_World_D</th>\n",
       "      <th>Canada_S</th>\n",
       "      <th>Mexico_S</th>\n",
       "      <th>North_Sea_S</th>\n",
       "      <th>Other_S</th>\n",
       "      <th>US_S</th>\n",
       "      <th>China_S</th>\n",
       "      <th>Soviet_S</th>\n",
       "      <th>Other_S.1</th>\n",
       "      <th>OPEC_S</th>\n",
       "      <th>Total_World_S</th>\n",
       "      <th>OPEC_Crude_Oil_Portion</th>\n",
       "      <th>OPEC_Non_Crude_Portion</th>\n",
       "      <th>Total_OPEC</th>\n",
       "      <th>Brent_Crude_Price</th>\n",
       "      <th>Latin_America_Rigs</th>\n",
       "      <th>Europe_Rigs</th>\n",
       "      <th>Africa_Rigs</th>\n",
       "      <th>Middle_East_Rigs</th>\n",
       "      <th>Asia_Pacific_Rigs</th>\n",
       "      <th>Total_Intl_Rigs</th>\n",
       "      <th>Canada_Rigs</th>\n",
       "      <th>US_Rigs</th>\n",
       "      <th>Q1</th>\n",
       "      <th>Q2</th>\n",
       "      <th>Q3</th>\n",
       "      <th>Q4</th>\n",
       "    </tr>\n",
       "  </thead>\n",
       "  <tbody>\n",
       "    <tr>\n",
       "      <th>0</th>\n",
       "      <td>2019</td>\n",
       "      <td>Q3</td>\n",
       "      <td>2.57</td>\n",
       "      <td>15.44</td>\n",
       "      <td>3.43</td>\n",
       "      <td>20.88</td>\n",
       "      <td>14.37</td>\n",
       "      <td>5.58</td>\n",
       "      <td>13.74</td>\n",
       "      <td>26.24</td>\n",
       "      <td>102.25</td>\n",
       "      <td>5.47</td>\n",
       "      <td>1.93</td>\n",
       "      <td>2.96</td>\n",
       "      <td>4.64</td>\n",
       "      <td>19.45</td>\n",
       "      <td>4.89</td>\n",
       "      <td>14.58</td>\n",
       "      <td>15.33</td>\n",
       "      <td>33.88</td>\n",
       "      <td>100.17</td>\n",
       "      <td>28.65</td>\n",
       "      <td>5.24</td>\n",
       "      <td>33.88</td>\n",
       "      <td>61.95</td>\n",
       "      <td>195</td>\n",
       "      <td>190</td>\n",
       "      <td>114</td>\n",
       "      <td>422</td>\n",
       "      <td>224</td>\n",
       "      <td>1144</td>\n",
       "      <td>132</td>\n",
       "      <td>920</td>\n",
       "      <td>0</td>\n",
       "      <td>0</td>\n",
       "      <td>1</td>\n",
       "      <td>0</td>\n",
       "    </tr>\n",
       "    <tr>\n",
       "      <th>1</th>\n",
       "      <td>2019</td>\n",
       "      <td>Q2</td>\n",
       "      <td>2.32</td>\n",
       "      <td>14.95</td>\n",
       "      <td>3.39</td>\n",
       "      <td>20.63</td>\n",
       "      <td>14.65</td>\n",
       "      <td>5.19</td>\n",
       "      <td>14.11</td>\n",
       "      <td>25.77</td>\n",
       "      <td>101.00</td>\n",
       "      <td>5.47</td>\n",
       "      <td>1.91</td>\n",
       "      <td>2.96</td>\n",
       "      <td>4.59</td>\n",
       "      <td>19.35</td>\n",
       "      <td>4.92</td>\n",
       "      <td>14.43</td>\n",
       "      <td>14.88</td>\n",
       "      <td>34.91</td>\n",
       "      <td>100.49</td>\n",
       "      <td>29.48</td>\n",
       "      <td>5.44</td>\n",
       "      <td>34.91</td>\n",
       "      <td>69.04</td>\n",
       "      <td>186</td>\n",
       "      <td>159</td>\n",
       "      <td>122</td>\n",
       "      <td>412</td>\n",
       "      <td>230</td>\n",
       "      <td>1109</td>\n",
       "      <td>83</td>\n",
       "      <td>989</td>\n",
       "      <td>0</td>\n",
       "      <td>1</td>\n",
       "      <td>0</td>\n",
       "      <td>0</td>\n",
       "    </tr>\n",
       "    <tr>\n",
       "      <th>2</th>\n",
       "      <td>2019</td>\n",
       "      <td>Q1</td>\n",
       "      <td>2.31</td>\n",
       "      <td>14.82</td>\n",
       "      <td>4.06</td>\n",
       "      <td>20.55</td>\n",
       "      <td>14.46</td>\n",
       "      <td>5.15</td>\n",
       "      <td>13.95</td>\n",
       "      <td>25.22</td>\n",
       "      <td>100.49</td>\n",
       "      <td>5.43</td>\n",
       "      <td>1.91</td>\n",
       "      <td>2.96</td>\n",
       "      <td>4.85</td>\n",
       "      <td>18.86</td>\n",
       "      <td>4.89</td>\n",
       "      <td>14.86</td>\n",
       "      <td>14.12</td>\n",
       "      <td>35.39</td>\n",
       "      <td>100.34</td>\n",
       "      <td>29.95</td>\n",
       "      <td>5.44</td>\n",
       "      <td>35.39</td>\n",
       "      <td>63.10</td>\n",
       "      <td>188</td>\n",
       "      <td>92</td>\n",
       "      <td>116</td>\n",
       "      <td>398</td>\n",
       "      <td>235</td>\n",
       "      <td>1030</td>\n",
       "      <td>186</td>\n",
       "      <td>1046</td>\n",
       "      <td>1</td>\n",
       "      <td>0</td>\n",
       "      <td>0</td>\n",
       "      <td>0</td>\n",
       "    </tr>\n",
       "    <tr>\n",
       "      <th>3</th>\n",
       "      <td>2018</td>\n",
       "      <td>Q4</td>\n",
       "      <td>2.58</td>\n",
       "      <td>14.93</td>\n",
       "      <td>3.89</td>\n",
       "      <td>20.75</td>\n",
       "      <td>14.10</td>\n",
       "      <td>5.36</td>\n",
       "      <td>13.82</td>\n",
       "      <td>25.29</td>\n",
       "      <td>100.73</td>\n",
       "      <td>5.62</td>\n",
       "      <td>1.95</td>\n",
       "      <td>2.95</td>\n",
       "      <td>4.89</td>\n",
       "      <td>19.03</td>\n",
       "      <td>4.81</td>\n",
       "      <td>14.88</td>\n",
       "      <td>14.49</td>\n",
       "      <td>36.74</td>\n",
       "      <td>102.42</td>\n",
       "      <td>31.42</td>\n",
       "      <td>5.32</td>\n",
       "      <td>36.74</td>\n",
       "      <td>68.76</td>\n",
       "      <td>193</td>\n",
       "      <td>90</td>\n",
       "      <td>106</td>\n",
       "      <td>397</td>\n",
       "      <td>225</td>\n",
       "      <td>1011</td>\n",
       "      <td>177</td>\n",
       "      <td>1072</td>\n",
       "      <td>0</td>\n",
       "      <td>0</td>\n",
       "      <td>0</td>\n",
       "      <td>1</td>\n",
       "    </tr>\n",
       "    <tr>\n",
       "      <th>4</th>\n",
       "      <td>2018</td>\n",
       "      <td>Q3</td>\n",
       "      <td>2.65</td>\n",
       "      <td>15.47</td>\n",
       "      <td>3.53</td>\n",
       "      <td>20.86</td>\n",
       "      <td>13.88</td>\n",
       "      <td>5.50</td>\n",
       "      <td>13.48</td>\n",
       "      <td>25.88</td>\n",
       "      <td>101.25</td>\n",
       "      <td>5.41</td>\n",
       "      <td>2.09</td>\n",
       "      <td>2.84</td>\n",
       "      <td>4.65</td>\n",
       "      <td>18.44</td>\n",
       "      <td>4.73</td>\n",
       "      <td>14.63</td>\n",
       "      <td>14.81</td>\n",
       "      <td>36.81</td>\n",
       "      <td>101.57</td>\n",
       "      <td>31.50</td>\n",
       "      <td>5.32</td>\n",
       "      <td>36.81</td>\n",
       "      <td>75.07</td>\n",
       "      <td>191</td>\n",
       "      <td>84</td>\n",
       "      <td>104</td>\n",
       "      <td>399</td>\n",
       "      <td>225</td>\n",
       "      <td>1003</td>\n",
       "      <td>208</td>\n",
       "      <td>1051</td>\n",
       "      <td>0</td>\n",
       "      <td>0</td>\n",
       "      <td>1</td>\n",
       "      <td>0</td>\n",
       "    </tr>\n",
       "  </tbody>\n",
       "</table>\n",
       "</div>"
      ],
      "text/plain": [
       "   Year Quarter  Canada_D  Europe_D  Japan_D   US_D  China_D  Soviet_D  \\\n",
       "0  2019      Q3      2.57     15.44     3.43  20.88    14.37      5.58   \n",
       "1  2019      Q2      2.32     14.95     3.39  20.63    14.65      5.19   \n",
       "2  2019      Q1      2.31     14.82     4.06  20.55    14.46      5.15   \n",
       "3  2018      Q4      2.58     14.93     3.89  20.75    14.10      5.36   \n",
       "4  2018      Q3      2.65     15.47     3.53  20.86    13.88      5.50   \n",
       "\n",
       "   Asia_D  Other_D  Total_World_D  Canada_S  Mexico_S  North_Sea_S  Other_S  \\\n",
       "0   13.74    26.24         102.25      5.47      1.93         2.96     4.64   \n",
       "1   14.11    25.77         101.00      5.47      1.91         2.96     4.59   \n",
       "2   13.95    25.22         100.49      5.43      1.91         2.96     4.85   \n",
       "3   13.82    25.29         100.73      5.62      1.95         2.95     4.89   \n",
       "4   13.48    25.88         101.25      5.41      2.09         2.84     4.65   \n",
       "\n",
       "    US_S  China_S  Soviet_S  Other_S.1  OPEC_S  Total_World_S  \\\n",
       "0  19.45     4.89     14.58      15.33   33.88         100.17   \n",
       "1  19.35     4.92     14.43      14.88   34.91         100.49   \n",
       "2  18.86     4.89     14.86      14.12   35.39         100.34   \n",
       "3  19.03     4.81     14.88      14.49   36.74         102.42   \n",
       "4  18.44     4.73     14.63      14.81   36.81         101.57   \n",
       "\n",
       "   OPEC_Crude_Oil_Portion  OPEC_Non_Crude_Portion  Total_OPEC  \\\n",
       "0                   28.65                    5.24       33.88   \n",
       "1                   29.48                    5.44       34.91   \n",
       "2                   29.95                    5.44       35.39   \n",
       "3                   31.42                    5.32       36.74   \n",
       "4                   31.50                    5.32       36.81   \n",
       "\n",
       "   Brent_Crude_Price  Latin_America_Rigs  Europe_Rigs  Africa_Rigs  \\\n",
       "0              61.95                 195          190          114   \n",
       "1              69.04                 186          159          122   \n",
       "2              63.10                 188           92          116   \n",
       "3              68.76                 193           90          106   \n",
       "4              75.07                 191           84          104   \n",
       "\n",
       "   Middle_East_Rigs  Asia_Pacific_Rigs  Total_Intl_Rigs  Canada_Rigs  US_Rigs  \\\n",
       "0               422                224             1144          132      920   \n",
       "1               412                230             1109           83      989   \n",
       "2               398                235             1030          186     1046   \n",
       "3               397                225             1011          177     1072   \n",
       "4               399                225             1003          208     1051   \n",
       "\n",
       "   Q1  Q2  Q3  Q4  \n",
       "0   0   0   1   0  \n",
       "1   0   1   0   0  \n",
       "2   1   0   0   0  \n",
       "3   0   0   0   1  \n",
       "4   0   0   1   0  "
      ]
     },
     "execution_count": 8,
     "metadata": {},
     "output_type": "execute_result"
    }
   ],
   "source": [
    "#One Hot Encoding\n",
    "dummies = pd.get_dummies(oil_df.Quarter)\n",
    "oil_encode_df = pd.concat([oil_df, dummies], axis='columns')\n",
    "oil_encode_df.head()"
   ]
  },
  {
   "cell_type": "code",
   "execution_count": 9,
   "metadata": {},
   "outputs": [
    {
     "data": {
      "text/html": [
       "<div>\n",
       "<style scoped>\n",
       "    .dataframe tbody tr th:only-of-type {\n",
       "        vertical-align: middle;\n",
       "    }\n",
       "\n",
       "    .dataframe tbody tr th {\n",
       "        vertical-align: top;\n",
       "    }\n",
       "\n",
       "    .dataframe thead th {\n",
       "        text-align: right;\n",
       "    }\n",
       "</style>\n",
       "<table border=\"1\" class=\"dataframe\">\n",
       "  <thead>\n",
       "    <tr style=\"text-align: right;\">\n",
       "      <th></th>\n",
       "      <th>Total_Intl_Rigs</th>\n",
       "      <th>Asia_Pacific_Rigs</th>\n",
       "      <th>Brent_Crude_Price</th>\n",
       "      <th>Latin_America_Rigs</th>\n",
       "      <th>US_Rigs</th>\n",
       "    </tr>\n",
       "  </thead>\n",
       "  <tbody>\n",
       "    <tr>\n",
       "      <th>0</th>\n",
       "      <td>0.739464</td>\n",
       "      <td>0.641892</td>\n",
       "      <td>0.461315</td>\n",
       "      <td>0.058140</td>\n",
       "      <td>920</td>\n",
       "    </tr>\n",
       "    <tr>\n",
       "      <th>1</th>\n",
       "      <td>0.694764</td>\n",
       "      <td>0.682432</td>\n",
       "      <td>0.525775</td>\n",
       "      <td>0.023256</td>\n",
       "      <td>989</td>\n",
       "    </tr>\n",
       "    <tr>\n",
       "      <th>2</th>\n",
       "      <td>0.593870</td>\n",
       "      <td>0.716216</td>\n",
       "      <td>0.471770</td>\n",
       "      <td>0.031008</td>\n",
       "      <td>1046</td>\n",
       "    </tr>\n",
       "    <tr>\n",
       "      <th>3</th>\n",
       "      <td>0.569604</td>\n",
       "      <td>0.648649</td>\n",
       "      <td>0.523229</td>\n",
       "      <td>0.050388</td>\n",
       "      <td>1072</td>\n",
       "    </tr>\n",
       "    <tr>\n",
       "      <th>4</th>\n",
       "      <td>0.559387</td>\n",
       "      <td>0.648649</td>\n",
       "      <td>0.580598</td>\n",
       "      <td>0.042636</td>\n",
       "      <td>1051</td>\n",
       "    </tr>\n",
       "  </tbody>\n",
       "</table>\n",
       "</div>"
      ],
      "text/plain": [
       "   Total_Intl_Rigs  Asia_Pacific_Rigs  Brent_Crude_Price  Latin_America_Rigs  \\\n",
       "0         0.739464           0.641892           0.461315            0.058140   \n",
       "1         0.694764           0.682432           0.525775            0.023256   \n",
       "2         0.593870           0.716216           0.471770            0.031008   \n",
       "3         0.569604           0.648649           0.523229            0.050388   \n",
       "4         0.559387           0.648649           0.580598            0.042636   \n",
       "\n",
       "   US_Rigs  \n",
       "0      920  \n",
       "1      989  \n",
       "2     1046  \n",
       "3     1072  \n",
       "4     1051  "
      ]
     },
     "execution_count": 9,
     "metadata": {},
     "output_type": "execute_result"
    }
   ],
   "source": [
    "#Scaling\n",
    "from sklearn.preprocessing import MinMaxScaler\n",
    "x_scaler = MinMaxScaler()\n",
    "features = oil_encode_df.drop([\"US_Rigs\", \"Quarter\"], axis=1)\n",
    "features_new = features[['Total_Intl_Rigs','Asia_Pacific_Rigs', 'Brent_Crude_Price', 'Latin_America_Rigs']]\n",
    "x_scaler.fit(features_new)\n",
    "features_scaled = x_scaler.transform(features_new)\n",
    "df_scaled = pd.DataFrame(features_scaled, columns=features_new.columns)\n",
    "df_scaled[\"US_Rigs\"] = oil_encode_df[\"US_Rigs\"]\n",
    "df_scaled.head()"
   ]
  },
  {
   "cell_type": "markdown",
   "metadata": {},
   "source": [
    "# Re-Inspect Data"
   ]
  },
  {
   "cell_type": "code",
   "execution_count": 10,
   "metadata": {},
   "outputs": [
    {
     "name": "stdout",
     "output_type": "stream",
     "text": [
      "<class 'pandas.core.frame.DataFrame'>\n",
      "RangeIndex: 103 entries, 0 to 102\n",
      "Data columns (total 37 columns):\n",
      " #   Column                  Non-Null Count  Dtype  \n",
      "---  ------                  --------------  -----  \n",
      " 0   Year                    103 non-null    int64  \n",
      " 1   Quarter                 103 non-null    object \n",
      " 2   Canada_D                103 non-null    float64\n",
      " 3   Europe_D                103 non-null    float64\n",
      " 4   Japan_D                 103 non-null    float64\n",
      " 5   US_D                    103 non-null    float64\n",
      " 6   China_D                 103 non-null    float64\n",
      " 7   Soviet_D                103 non-null    float64\n",
      " 8   Asia_D                  103 non-null    float64\n",
      " 9   Other_D                 103 non-null    float64\n",
      " 10  Total_World_D           103 non-null    float64\n",
      " 11  Canada_S                103 non-null    float64\n",
      " 12  Mexico_S                103 non-null    float64\n",
      " 13  North_Sea_S             103 non-null    float64\n",
      " 14  Other_S                 103 non-null    float64\n",
      " 15  US_S                    103 non-null    float64\n",
      " 16  China_S                 103 non-null    float64\n",
      " 17  Soviet_S                103 non-null    float64\n",
      " 18  Other_S.1               103 non-null    float64\n",
      " 19  OPEC_S                  103 non-null    float64\n",
      " 20  Total_World_S           103 non-null    float64\n",
      " 21  OPEC_Crude_Oil_Portion  103 non-null    float64\n",
      " 22  OPEC_Non_Crude_Portion  103 non-null    float64\n",
      " 23  Total_OPEC              103 non-null    float64\n",
      " 24  Brent_Crude_Price       103 non-null    float64\n",
      " 25  Latin_America_Rigs      103 non-null    int64  \n",
      " 26  Europe_Rigs             103 non-null    int64  \n",
      " 27  Africa_Rigs             103 non-null    int64  \n",
      " 28  Middle_East_Rigs        103 non-null    int64  \n",
      " 29  Asia_Pacific_Rigs       103 non-null    int64  \n",
      " 30  Total_Intl_Rigs         103 non-null    int64  \n",
      " 31  Canada_Rigs             103 non-null    int64  \n",
      " 32  US_Rigs                 103 non-null    int64  \n",
      " 33  Q1                      103 non-null    uint8  \n",
      " 34  Q2                      103 non-null    uint8  \n",
      " 35  Q3                      103 non-null    uint8  \n",
      " 36  Q4                      103 non-null    uint8  \n",
      "dtypes: float64(23), int64(9), object(1), uint8(4)\n",
      "memory usage: 27.1+ KB\n"
     ]
    }
   ],
   "source": [
    "oil_encode_df.info()"
   ]
  },
  {
   "cell_type": "code",
   "execution_count": 11,
   "metadata": {},
   "outputs": [
    {
     "data": {
      "text/html": [
       "<div>\n",
       "<style scoped>\n",
       "    .dataframe tbody tr th:only-of-type {\n",
       "        vertical-align: middle;\n",
       "    }\n",
       "\n",
       "    .dataframe tbody tr th {\n",
       "        vertical-align: top;\n",
       "    }\n",
       "\n",
       "    .dataframe thead th {\n",
       "        text-align: right;\n",
       "    }\n",
       "</style>\n",
       "<table border=\"1\" class=\"dataframe\">\n",
       "  <thead>\n",
       "    <tr style=\"text-align: right;\">\n",
       "      <th></th>\n",
       "      <th>Year</th>\n",
       "      <th>Canada_D</th>\n",
       "      <th>Europe_D</th>\n",
       "      <th>Japan_D</th>\n",
       "      <th>US_D</th>\n",
       "      <th>China_D</th>\n",
       "      <th>Soviet_D</th>\n",
       "      <th>Asia_D</th>\n",
       "      <th>Other_D</th>\n",
       "      <th>Total_World_D</th>\n",
       "      <th>Canada_S</th>\n",
       "      <th>Mexico_S</th>\n",
       "      <th>North_Sea_S</th>\n",
       "      <th>Other_S</th>\n",
       "      <th>US_S</th>\n",
       "      <th>China_S</th>\n",
       "      <th>Soviet_S</th>\n",
       "      <th>Other_S.1</th>\n",
       "      <th>OPEC_S</th>\n",
       "      <th>Total_World_S</th>\n",
       "      <th>OPEC_Crude_Oil_Portion</th>\n",
       "      <th>OPEC_Non_Crude_Portion</th>\n",
       "      <th>Total_OPEC</th>\n",
       "      <th>Brent_Crude_Price</th>\n",
       "      <th>Latin_America_Rigs</th>\n",
       "      <th>Europe_Rigs</th>\n",
       "      <th>Africa_Rigs</th>\n",
       "      <th>Middle_East_Rigs</th>\n",
       "      <th>Asia_Pacific_Rigs</th>\n",
       "      <th>Total_Intl_Rigs</th>\n",
       "      <th>Canada_Rigs</th>\n",
       "      <th>US_Rigs</th>\n",
       "      <th>Q1</th>\n",
       "      <th>Q2</th>\n",
       "      <th>Q3</th>\n",
       "      <th>Q4</th>\n",
       "    </tr>\n",
       "  </thead>\n",
       "  <tbody>\n",
       "    <tr>\n",
       "      <th>count</th>\n",
       "      <td>103.000000</td>\n",
       "      <td>103.000000</td>\n",
       "      <td>103.000000</td>\n",
       "      <td>103.000000</td>\n",
       "      <td>103.000000</td>\n",
       "      <td>103.00000</td>\n",
       "      <td>103.000000</td>\n",
       "      <td>103.000000</td>\n",
       "      <td>103.000000</td>\n",
       "      <td>103.000000</td>\n",
       "      <td>103.000000</td>\n",
       "      <td>103.000000</td>\n",
       "      <td>103.000000</td>\n",
       "      <td>103.000000</td>\n",
       "      <td>103.000000</td>\n",
       "      <td>103.000000</td>\n",
       "      <td>103.000000</td>\n",
       "      <td>103.000000</td>\n",
       "      <td>103.000000</td>\n",
       "      <td>103.000000</td>\n",
       "      <td>103.000000</td>\n",
       "      <td>103.000000</td>\n",
       "      <td>103.000000</td>\n",
       "      <td>103.000000</td>\n",
       "      <td>103.000000</td>\n",
       "      <td>103.000000</td>\n",
       "      <td>103.000000</td>\n",
       "      <td>103.000000</td>\n",
       "      <td>103.000000</td>\n",
       "      <td>103.000000</td>\n",
       "      <td>103.000000</td>\n",
       "      <td>103.000000</td>\n",
       "      <td>103.000000</td>\n",
       "      <td>103.000000</td>\n",
       "      <td>103.000000</td>\n",
       "      <td>103.000000</td>\n",
       "    </tr>\n",
       "    <tr>\n",
       "      <th>mean</th>\n",
       "      <td>2006.378641</td>\n",
       "      <td>2.209515</td>\n",
       "      <td>15.511359</td>\n",
       "      <td>4.922330</td>\n",
       "      <td>19.708738</td>\n",
       "      <td>7.89000</td>\n",
       "      <td>4.320485</td>\n",
       "      <td>9.361650</td>\n",
       "      <td>20.525728</td>\n",
       "      <td>84.446990</td>\n",
       "      <td>3.472913</td>\n",
       "      <td>3.136505</td>\n",
       "      <td>4.648738</td>\n",
       "      <td>2.436214</td>\n",
       "      <td>10.820583</td>\n",
       "      <td>3.986214</td>\n",
       "      <td>11.256214</td>\n",
       "      <td>11.658155</td>\n",
       "      <td>33.821650</td>\n",
       "      <td>84.453495</td>\n",
       "      <td>29.471748</td>\n",
       "      <td>4.350971</td>\n",
       "      <td>33.821650</td>\n",
       "      <td>53.548835</td>\n",
       "      <td>293.019417</td>\n",
       "      <td>99.737864</td>\n",
       "      <td>75.271845</td>\n",
       "      <td>259.854369</td>\n",
       "      <td>207.737864</td>\n",
       "      <td>935.737864</td>\n",
       "      <td>306.669903</td>\n",
       "      <td>1190.038835</td>\n",
       "      <td>0.252427</td>\n",
       "      <td>0.252427</td>\n",
       "      <td>0.252427</td>\n",
       "      <td>0.242718</td>\n",
       "    </tr>\n",
       "    <tr>\n",
       "      <th>std</th>\n",
       "      <td>7.470355</td>\n",
       "      <td>0.221613</td>\n",
       "      <td>0.759512</td>\n",
       "      <td>0.777944</td>\n",
       "      <td>0.918108</td>\n",
       "      <td>3.57459</td>\n",
       "      <td>0.482691</td>\n",
       "      <td>2.472779</td>\n",
       "      <td>3.671843</td>\n",
       "      <td>9.478345</td>\n",
       "      <td>0.883869</td>\n",
       "      <td>0.512389</td>\n",
       "      <td>1.361103</td>\n",
       "      <td>1.390549</td>\n",
       "      <td>3.050705</td>\n",
       "      <td>0.679246</td>\n",
       "      <td>2.783294</td>\n",
       "      <td>1.918736</td>\n",
       "      <td>2.817496</td>\n",
       "      <td>9.402470</td>\n",
       "      <td>1.750876</td>\n",
       "      <td>1.272196</td>\n",
       "      <td>2.817496</td>\n",
       "      <td>33.082288</td>\n",
       "      <td>79.903003</td>\n",
       "      <td>22.631733</td>\n",
       "      <td>24.813498</td>\n",
       "      <td>98.253514</td>\n",
       "      <td>37.689381</td>\n",
       "      <td>201.976166</td>\n",
       "      <td>138.513989</td>\n",
       "      <td>448.980303</td>\n",
       "      <td>0.436529</td>\n",
       "      <td>0.436529</td>\n",
       "      <td>0.436529</td>\n",
       "      <td>0.430823</td>\n",
       "    </tr>\n",
       "    <tr>\n",
       "      <th>min</th>\n",
       "      <td>1994.000000</td>\n",
       "      <td>1.700000</td>\n",
       "      <td>13.750000</td>\n",
       "      <td>3.390000</td>\n",
       "      <td>17.780000</td>\n",
       "      <td>3.03000</td>\n",
       "      <td>3.390000</td>\n",
       "      <td>5.310000</td>\n",
       "      <td>14.620000</td>\n",
       "      <td>67.170000</td>\n",
       "      <td>2.270000</td>\n",
       "      <td>1.910000</td>\n",
       "      <td>2.710000</td>\n",
       "      <td>1.430000</td>\n",
       "      <td>7.740000</td>\n",
       "      <td>2.930000</td>\n",
       "      <td>7.010000</td>\n",
       "      <td>8.030000</td>\n",
       "      <td>28.150000</td>\n",
       "      <td>68.070000</td>\n",
       "      <td>25.700000</td>\n",
       "      <td>1.810000</td>\n",
       "      <td>28.150000</td>\n",
       "      <td>11.210000</td>\n",
       "      <td>180.000000</td>\n",
       "      <td>61.000000</td>\n",
       "      <td>37.000000</td>\n",
       "      <td>112.000000</td>\n",
       "      <td>129.000000</td>\n",
       "      <td>565.000000</td>\n",
       "      <td>49.000000</td>\n",
       "      <td>421.000000</td>\n",
       "      <td>0.000000</td>\n",
       "      <td>0.000000</td>\n",
       "      <td>0.000000</td>\n",
       "      <td>0.000000</td>\n",
       "    </tr>\n",
       "    <tr>\n",
       "      <th>25%</th>\n",
       "      <td>2000.000000</td>\n",
       "      <td>2.040000</td>\n",
       "      <td>14.930000</td>\n",
       "      <td>4.325000</td>\n",
       "      <td>19.005000</td>\n",
       "      <td>4.72000</td>\n",
       "      <td>3.950000</td>\n",
       "      <td>7.320000</td>\n",
       "      <td>17.380000</td>\n",
       "      <td>76.790000</td>\n",
       "      <td>2.750000</td>\n",
       "      <td>2.915000</td>\n",
       "      <td>3.170000</td>\n",
       "      <td>1.565000</td>\n",
       "      <td>8.845000</td>\n",
       "      <td>3.380000</td>\n",
       "      <td>8.140000</td>\n",
       "      <td>10.090000</td>\n",
       "      <td>31.330000</td>\n",
       "      <td>76.540000</td>\n",
       "      <td>28.035000</td>\n",
       "      <td>3.255000</td>\n",
       "      <td>31.330000</td>\n",
       "      <td>24.545000</td>\n",
       "      <td>222.500000</td>\n",
       "      <td>82.500000</td>\n",
       "      <td>57.000000</td>\n",
       "      <td>168.500000</td>\n",
       "      <td>178.500000</td>\n",
       "      <td>763.000000</td>\n",
       "      <td>189.500000</td>\n",
       "      <td>832.000000</td>\n",
       "      <td>0.000000</td>\n",
       "      <td>0.000000</td>\n",
       "      <td>0.000000</td>\n",
       "      <td>0.000000</td>\n",
       "    </tr>\n",
       "    <tr>\n",
       "      <th>50%</th>\n",
       "      <td>2006.000000</td>\n",
       "      <td>2.250000</td>\n",
       "      <td>15.580000</td>\n",
       "      <td>4.960000</td>\n",
       "      <td>19.650000</td>\n",
       "      <td>7.28000</td>\n",
       "      <td>4.230000</td>\n",
       "      <td>9.000000</td>\n",
       "      <td>20.100000</td>\n",
       "      <td>84.720000</td>\n",
       "      <td>3.290000</td>\n",
       "      <td>3.180000</td>\n",
       "      <td>4.720000</td>\n",
       "      <td>1.650000</td>\n",
       "      <td>9.390000</td>\n",
       "      <td>3.880000</td>\n",
       "      <td>12.450000</td>\n",
       "      <td>12.120000</td>\n",
       "      <td>34.510000</td>\n",
       "      <td>84.430000</td>\n",
       "      <td>29.860000</td>\n",
       "      <td>4.230000</td>\n",
       "      <td>34.510000</td>\n",
       "      <td>49.550000</td>\n",
       "      <td>280.000000</td>\n",
       "      <td>94.000000</td>\n",
       "      <td>68.000000</td>\n",
       "      <td>250.000000</td>\n",
       "      <td>211.000000</td>\n",
       "      <td>936.000000</td>\n",
       "      <td>291.000000</td>\n",
       "      <td>1046.000000</td>\n",
       "      <td>0.000000</td>\n",
       "      <td>0.000000</td>\n",
       "      <td>0.000000</td>\n",
       "      <td>0.000000</td>\n",
       "    </tr>\n",
       "    <tr>\n",
       "      <th>75%</th>\n",
       "      <td>2013.000000</td>\n",
       "      <td>2.385000</td>\n",
       "      <td>16.150000</td>\n",
       "      <td>5.435000</td>\n",
       "      <td>20.360000</td>\n",
       "      <td>10.86000</td>\n",
       "      <td>4.695000</td>\n",
       "      <td>11.535000</td>\n",
       "      <td>24.530000</td>\n",
       "      <td>91.635000</td>\n",
       "      <td>4.010000</td>\n",
       "      <td>3.550000</td>\n",
       "      <td>6.010000</td>\n",
       "      <td>4.335000</td>\n",
       "      <td>11.910000</td>\n",
       "      <td>4.745000</td>\n",
       "      <td>13.705000</td>\n",
       "      <td>12.725000</td>\n",
       "      <td>36.450000</td>\n",
       "      <td>90.985000</td>\n",
       "      <td>30.935000</td>\n",
       "      <td>5.315000</td>\n",
       "      <td>36.450000</td>\n",
       "      <td>74.660000</td>\n",
       "      <td>356.000000</td>\n",
       "      <td>112.000000</td>\n",
       "      <td>84.500000</td>\n",
       "      <td>375.500000</td>\n",
       "      <td>241.000000</td>\n",
       "      <td>1089.000000</td>\n",
       "      <td>406.000000</td>\n",
       "      <td>1701.500000</td>\n",
       "      <td>0.500000</td>\n",
       "      <td>0.500000</td>\n",
       "      <td>0.500000</td>\n",
       "      <td>0.000000</td>\n",
       "    </tr>\n",
       "    <tr>\n",
       "      <th>max</th>\n",
       "      <td>2019.000000</td>\n",
       "      <td>2.650000</td>\n",
       "      <td>16.750000</td>\n",
       "      <td>6.430000</td>\n",
       "      <td>21.310000</td>\n",
       "      <td>14.65000</td>\n",
       "      <td>5.580000</td>\n",
       "      <td>14.110000</td>\n",
       "      <td>26.240000</td>\n",
       "      <td>102.250000</td>\n",
       "      <td>5.620000</td>\n",
       "      <td>3.900000</td>\n",
       "      <td>6.670000</td>\n",
       "      <td>5.090000</td>\n",
       "      <td>19.450000</td>\n",
       "      <td>5.210000</td>\n",
       "      <td>14.880000</td>\n",
       "      <td>15.330000</td>\n",
       "      <td>37.720000</td>\n",
       "      <td>102.420000</td>\n",
       "      <td>32.210000</td>\n",
       "      <td>6.560000</td>\n",
       "      <td>37.720000</td>\n",
       "      <td>121.200000</td>\n",
       "      <td>438.000000</td>\n",
       "      <td>190.000000</td>\n",
       "      <td>142.000000</td>\n",
       "      <td>422.000000</td>\n",
       "      <td>277.000000</td>\n",
       "      <td>1348.000000</td>\n",
       "      <td>665.000000</td>\n",
       "      <td>2010.000000</td>\n",
       "      <td>1.000000</td>\n",
       "      <td>1.000000</td>\n",
       "      <td>1.000000</td>\n",
       "      <td>1.000000</td>\n",
       "    </tr>\n",
       "  </tbody>\n",
       "</table>\n",
       "</div>"
      ],
      "text/plain": [
       "              Year    Canada_D    Europe_D     Japan_D        US_D    China_D  \\\n",
       "count   103.000000  103.000000  103.000000  103.000000  103.000000  103.00000   \n",
       "mean   2006.378641    2.209515   15.511359    4.922330   19.708738    7.89000   \n",
       "std       7.470355    0.221613    0.759512    0.777944    0.918108    3.57459   \n",
       "min    1994.000000    1.700000   13.750000    3.390000   17.780000    3.03000   \n",
       "25%    2000.000000    2.040000   14.930000    4.325000   19.005000    4.72000   \n",
       "50%    2006.000000    2.250000   15.580000    4.960000   19.650000    7.28000   \n",
       "75%    2013.000000    2.385000   16.150000    5.435000   20.360000   10.86000   \n",
       "max    2019.000000    2.650000   16.750000    6.430000   21.310000   14.65000   \n",
       "\n",
       "         Soviet_D      Asia_D     Other_D  Total_World_D    Canada_S  \\\n",
       "count  103.000000  103.000000  103.000000     103.000000  103.000000   \n",
       "mean     4.320485    9.361650   20.525728      84.446990    3.472913   \n",
       "std      0.482691    2.472779    3.671843       9.478345    0.883869   \n",
       "min      3.390000    5.310000   14.620000      67.170000    2.270000   \n",
       "25%      3.950000    7.320000   17.380000      76.790000    2.750000   \n",
       "50%      4.230000    9.000000   20.100000      84.720000    3.290000   \n",
       "75%      4.695000   11.535000   24.530000      91.635000    4.010000   \n",
       "max      5.580000   14.110000   26.240000     102.250000    5.620000   \n",
       "\n",
       "         Mexico_S  North_Sea_S     Other_S        US_S     China_S  \\\n",
       "count  103.000000   103.000000  103.000000  103.000000  103.000000   \n",
       "mean     3.136505     4.648738    2.436214   10.820583    3.986214   \n",
       "std      0.512389     1.361103    1.390549    3.050705    0.679246   \n",
       "min      1.910000     2.710000    1.430000    7.740000    2.930000   \n",
       "25%      2.915000     3.170000    1.565000    8.845000    3.380000   \n",
       "50%      3.180000     4.720000    1.650000    9.390000    3.880000   \n",
       "75%      3.550000     6.010000    4.335000   11.910000    4.745000   \n",
       "max      3.900000     6.670000    5.090000   19.450000    5.210000   \n",
       "\n",
       "         Soviet_S   Other_S.1      OPEC_S  Total_World_S  \\\n",
       "count  103.000000  103.000000  103.000000     103.000000   \n",
       "mean    11.256214   11.658155   33.821650      84.453495   \n",
       "std      2.783294    1.918736    2.817496       9.402470   \n",
       "min      7.010000    8.030000   28.150000      68.070000   \n",
       "25%      8.140000   10.090000   31.330000      76.540000   \n",
       "50%     12.450000   12.120000   34.510000      84.430000   \n",
       "75%     13.705000   12.725000   36.450000      90.985000   \n",
       "max     14.880000   15.330000   37.720000     102.420000   \n",
       "\n",
       "       OPEC_Crude_Oil_Portion  OPEC_Non_Crude_Portion  Total_OPEC  \\\n",
       "count              103.000000              103.000000  103.000000   \n",
       "mean                29.471748                4.350971   33.821650   \n",
       "std                  1.750876                1.272196    2.817496   \n",
       "min                 25.700000                1.810000   28.150000   \n",
       "25%                 28.035000                3.255000   31.330000   \n",
       "50%                 29.860000                4.230000   34.510000   \n",
       "75%                 30.935000                5.315000   36.450000   \n",
       "max                 32.210000                6.560000   37.720000   \n",
       "\n",
       "       Brent_Crude_Price  Latin_America_Rigs  Europe_Rigs  Africa_Rigs  \\\n",
       "count         103.000000          103.000000   103.000000   103.000000   \n",
       "mean           53.548835          293.019417    99.737864    75.271845   \n",
       "std            33.082288           79.903003    22.631733    24.813498   \n",
       "min            11.210000          180.000000    61.000000    37.000000   \n",
       "25%            24.545000          222.500000    82.500000    57.000000   \n",
       "50%            49.550000          280.000000    94.000000    68.000000   \n",
       "75%            74.660000          356.000000   112.000000    84.500000   \n",
       "max           121.200000          438.000000   190.000000   142.000000   \n",
       "\n",
       "       Middle_East_Rigs  Asia_Pacific_Rigs  Total_Intl_Rigs  Canada_Rigs  \\\n",
       "count        103.000000         103.000000       103.000000   103.000000   \n",
       "mean         259.854369         207.737864       935.737864   306.669903   \n",
       "std           98.253514          37.689381       201.976166   138.513989   \n",
       "min          112.000000         129.000000       565.000000    49.000000   \n",
       "25%          168.500000         178.500000       763.000000   189.500000   \n",
       "50%          250.000000         211.000000       936.000000   291.000000   \n",
       "75%          375.500000         241.000000      1089.000000   406.000000   \n",
       "max          422.000000         277.000000      1348.000000   665.000000   \n",
       "\n",
       "           US_Rigs          Q1          Q2          Q3          Q4  \n",
       "count   103.000000  103.000000  103.000000  103.000000  103.000000  \n",
       "mean   1190.038835    0.252427    0.252427    0.252427    0.242718  \n",
       "std     448.980303    0.436529    0.436529    0.436529    0.430823  \n",
       "min     421.000000    0.000000    0.000000    0.000000    0.000000  \n",
       "25%     832.000000    0.000000    0.000000    0.000000    0.000000  \n",
       "50%    1046.000000    0.000000    0.000000    0.000000    0.000000  \n",
       "75%    1701.500000    0.500000    0.500000    0.500000    0.000000  \n",
       "max    2010.000000    1.000000    1.000000    1.000000    1.000000  "
      ]
     },
     "execution_count": 11,
     "metadata": {},
     "output_type": "execute_result"
    }
   ],
   "source": [
    "oil_encode_df.describe()"
   ]
  },
  {
   "cell_type": "code",
   "execution_count": 12,
   "metadata": {},
   "outputs": [
    {
     "data": {
      "image/png": "[encoded data removed]",
      "text/plain": [
       "<Figure size 720x432 with 1 Axes>"
      ]
     },
     "metadata": {
      "needs_background": "light"
     },
     "output_type": "display_data"
    },
    {
     "data": {
      "image/png": "[encoded data removed]",
      "text/plain": [
       "<Figure size 720x432 with 1 Axes>"
      ]
     },
     "metadata": {
      "needs_background": "light"
     },
     "output_type": "display_data"
    },
    {
     "data": {
      "image/png": "[encoded data removed]",
      "text/plain": [
       "<Figure size 720x432 with 1 Axes>"
      ]
     },
     "metadata": {
      "needs_background": "light"
     },
     "output_type": "display_data"
    },
    {
     "data": {
      "image/png": "[encoded data removed]",
      "text/plain": [
       "<Figure size 720x432 with 1 Axes>"
      ]
     },
     "metadata": {
      "needs_background": "light"
     },
     "output_type": "display_data"
    },
    {
     "data": {
      "image/png": "[encoded data removed]",
      "text/plain": [
       "<Figure size 720x432 with 1 Axes>"
      ]
     },
     "metadata": {
      "needs_background": "light"
     },
     "output_type": "display_data"
    }
   ],
   "source": [
    "for col in df_scaled.columns:\n",
    "    plt.figure(figsize=(10,6))\n",
    "    plt.hist(df_scaled[col])\n",
    "    plt.title(col, fontsize=16, fontweight=\"bold\")\n",
    "    plt.ylabel(\"Count\")\n",
    "    plt.xlabel(col)\n",
    "    plt.show()"
   ]
  },
  {
   "cell_type": "markdown",
   "metadata": {},
   "source": [
    "# Correlations"
   ]
  },
  {
   "cell_type": "code",
   "execution_count": 13,
   "metadata": {},
   "outputs": [
    {
     "data": {
      "text/html": [
       "<div>\n",
       "<style scoped>\n",
       "    .dataframe tbody tr th:only-of-type {\n",
       "        vertical-align: middle;\n",
       "    }\n",
       "\n",
       "    .dataframe tbody tr th {\n",
       "        vertical-align: top;\n",
       "    }\n",
       "\n",
       "    .dataframe thead th {\n",
       "        text-align: right;\n",
       "    }\n",
       "</style>\n",
       "<table border=\"1\" class=\"dataframe\">\n",
       "  <thead>\n",
       "    <tr style=\"text-align: right;\">\n",
       "      <th></th>\n",
       "      <th>Total_Intl_Rigs</th>\n",
       "      <th>Asia_Pacific_Rigs</th>\n",
       "      <th>Brent_Crude_Price</th>\n",
       "      <th>Latin_America_Rigs</th>\n",
       "      <th>US_Rigs</th>\n",
       "    </tr>\n",
       "  </thead>\n",
       "  <tbody>\n",
       "    <tr>\n",
       "      <th>Total_Intl_Rigs</th>\n",
       "      <td>1.000000</td>\n",
       "      <td>0.861696</td>\n",
       "      <td>0.879123</td>\n",
       "      <td>0.720542</td>\n",
       "      <td>0.721919</td>\n",
       "    </tr>\n",
       "    <tr>\n",
       "      <th>Asia_Pacific_Rigs</th>\n",
       "      <td>0.861696</td>\n",
       "      <td>1.000000</td>\n",
       "      <td>0.837156</td>\n",
       "      <td>0.741667</td>\n",
       "      <td>0.759682</td>\n",
       "    </tr>\n",
       "    <tr>\n",
       "      <th>Brent_Crude_Price</th>\n",
       "      <td>0.879123</td>\n",
       "      <td>0.837156</td>\n",
       "      <td>1.000000</td>\n",
       "      <td>0.730043</td>\n",
       "      <td>0.829238</td>\n",
       "    </tr>\n",
       "    <tr>\n",
       "      <th>Latin_America_Rigs</th>\n",
       "      <td>0.720542</td>\n",
       "      <td>0.741667</td>\n",
       "      <td>0.730043</td>\n",
       "      <td>1.000000</td>\n",
       "      <td>0.862802</td>\n",
       "    </tr>\n",
       "    <tr>\n",
       "      <th>US_Rigs</th>\n",
       "      <td>0.721919</td>\n",
       "      <td>0.759682</td>\n",
       "      <td>0.829238</td>\n",
       "      <td>0.862802</td>\n",
       "      <td>1.000000</td>\n",
       "    </tr>\n",
       "  </tbody>\n",
       "</table>\n",
       "</div>"
      ],
      "text/plain": [
       "                    Total_Intl_Rigs  Asia_Pacific_Rigs  Brent_Crude_Price  \\\n",
       "Total_Intl_Rigs            1.000000           0.861696           0.879123   \n",
       "Asia_Pacific_Rigs          0.861696           1.000000           0.837156   \n",
       "Brent_Crude_Price          0.879123           0.837156           1.000000   \n",
       "Latin_America_Rigs         0.720542           0.741667           0.730043   \n",
       "US_Rigs                    0.721919           0.759682           0.829238   \n",
       "\n",
       "                    Latin_America_Rigs   US_Rigs  \n",
       "Total_Intl_Rigs               0.720542  0.721919  \n",
       "Asia_Pacific_Rigs             0.741667  0.759682  \n",
       "Brent_Crude_Price             0.730043  0.829238  \n",
       "Latin_America_Rigs            1.000000  0.862802  \n",
       "US_Rigs                       0.862802  1.000000  "
      ]
     },
     "execution_count": 13,
     "metadata": {},
     "output_type": "execute_result"
    }
   ],
   "source": [
    "df_scaled.corr()"
   ]
  },
  {
   "cell_type": "code",
   "execution_count": 14,
   "metadata": {},
   "outputs": [
    {
     "data": {
      "image/png": "[encoded data removed]",
      "text/plain": [
       "<Figure size 1296x864 with 2 Axes>"
      ]
     },
     "metadata": {
      "needs_background": "light"
     },
     "output_type": "display_data"
    }
   ],
   "source": [
    "plt.figure(figsize=(18,12))\n",
    "sns.heatmap(df_scaled.corr())\n",
    "plt.show()"
   ]
  },
  {
   "cell_type": "markdown",
   "metadata": {},
   "source": [
    "# Prep for Machine Learning Analysis"
   ]
  },
  {
   "cell_type": "code",
   "execution_count": 15,
   "metadata": {},
   "outputs": [
    {
     "data": {
      "text/plain": [
       "['Total_Intl_Rigs',\n",
       " 'Asia_Pacific_Rigs',\n",
       " 'Brent_Crude_Price',\n",
       " 'Latin_America_Rigs',\n",
       " 'US_Rigs']"
      ]
     },
     "execution_count": 15,
     "metadata": {},
     "output_type": "execute_result"
    }
   ],
   "source": [
    "#Get Highly Correlated Features\n",
    "corrs = abs(df_scaled.corr()[\"US_Rigs\"]).sort_values()\n",
    "\n",
    "predictive_cols = []\n",
    "for name, col in corrs.iteritems():\n",
    "    if col > .6 or col < -.6:\n",
    "        predictive_cols.append(name)\n",
    "        \n",
    "predictive_cols"
   ]
  },
  {
   "cell_type": "code",
   "execution_count": 16,
   "metadata": {},
   "outputs": [],
   "source": [
    "#Create our feature and target sets\n",
    "feature_cols = ['Total_Intl_Rigs',\n",
    " 'Asia_Pacific_Rigs',\n",
    " 'Brent_Crude_Price',\n",
    " 'Latin_America_Rigs',]\n",
    "\n",
    "target_col = \"US_Rigs\"\n",
    "\n",
    "features = df_scaled[feature_cols]\n",
    "target = df_scaled[target_col]"
   ]
  },
  {
   "cell_type": "code",
   "execution_count": 17,
   "metadata": {},
   "outputs": [],
   "source": [
    "#Train Test Split\n",
    "from sklearn.model_selection import train_test_split\n",
    "X = features.to_numpy()\n",
    "y = target.to_numpy()\n",
    "X_train, X_test, y_train, y_test = train_test_split(X, y, test_size=0.2, random_state=42)"
   ]
  },
  {
   "cell_type": "markdown",
   "metadata": {},
   "source": [
    "# Machine Learning"
   ]
  },
  {
   "cell_type": "code",
   "execution_count": 18,
   "metadata": {},
   "outputs": [],
   "source": [
    "#Imports\n",
    "from sklearn.linear_model import LinearRegression, Ridge, Lasso, ElasticNet\n",
    "from sklearn.metrics import r2_score, mean_squared_error"
   ]
  },
  {
   "cell_type": "markdown",
   "metadata": {},
   "source": [
    "# Linear Models"
   ]
  },
  {
   "cell_type": "code",
   "execution_count": 19,
   "metadata": {},
   "outputs": [
    {
     "name": "stdout",
     "output_type": "stream",
     "text": [
      "Model Evaluation Report\n",
      "The In Sample R2 Score: 0.835521847334966\n",
      "The In Sample MSE: 31722.165409093926\n",
      "\n",
      "The Out Sample R2 Score: 0.8534614130814273\n",
      "The Out Sample MSE: 33121.15782079262\n"
     ]
    }
   ],
   "source": [
    "#Initialize Linear Regression Model\n",
    "reg = LinearRegression()\n",
    "\n",
    "# fit\n",
    "reg.fit(X_train, y_train)\n",
    "\n",
    "# predict\n",
    "in_preds = reg.predict(X_train)\n",
    "out_preds = reg.predict(X_test)\n",
    "\n",
    "#evaluate\n",
    "print(\"Model Evaluation Report\")\n",
    "print(f\"The In Sample R2 Score: {r2_score(y_train, in_preds)}\")\n",
    "print(f\"The In Sample MSE: {mean_squared_error(y_train, in_preds)}\")\n",
    "print()\n",
    "print(f\"The Out Sample R2 Score: {r2_score(y_test, out_preds)}\")\n",
    "print(f\"The Out Sample MSE: {mean_squared_error(y_test, out_preds)}\")"
   ]
  },
  {
   "cell_type": "code",
   "execution_count": 20,
   "metadata": {},
   "outputs": [
    {
     "name": "stdout",
     "output_type": "stream",
     "text": [
      "Model Evaluation Report\n",
      "The In Sample R2 Score: 0.8106999537075118\n",
      "The In Sample MSE: 36509.4529768271\n",
      "\n",
      "The Out Sample R2 Score: 0.8707207961732302\n",
      "The Out Sample MSE: 29220.132409712533\n"
     ]
    }
   ],
   "source": [
    "#Initialize Ridge Model\n",
    "ridge = Ridge()\n",
    "\n",
    "# fit\n",
    "ridge.fit(X_train, y_train)\n",
    "\n",
    "# predict\n",
    "in_preds = ridge.predict(X_train)\n",
    "out_preds = ridge.predict(X_test)\n",
    "\n",
    "#evaluate\n",
    "print(\"Model Evaluation Report\")\n",
    "print(f\"The In Sample R2 Score: {r2_score(y_train, in_preds)}\")\n",
    "print(f\"The In Sample MSE: {mean_squared_error(y_train, in_preds)}\")\n",
    "print()\n",
    "print(f\"The Out Sample R2 Score: {r2_score(y_test, out_preds)}\")\n",
    "print(f\"The Out Sample MSE: {mean_squared_error(y_test, out_preds)}\")"
   ]
  },
  {
   "cell_type": "code",
   "execution_count": 21,
   "metadata": {},
   "outputs": [
    {
     "name": "stdout",
     "output_type": "stream",
     "text": [
      "Model Evaluation Report\n",
      "The In Sample R2 Score: 0.8335897645495558\n",
      "The In Sample MSE: 32094.797571540832\n",
      "\n",
      "The Out Sample R2 Score: 0.8690518877907623\n",
      "The Out Sample MSE: 29597.344849701993\n"
     ]
    }
   ],
   "source": [
    "#Initialize Lasso Model\n",
    "lasso = Lasso()\n",
    "\n",
    "# fit\n",
    "lasso.fit(X_train, y_train)\n",
    "\n",
    "# predict\n",
    "in_preds = lasso.predict(X_train)\n",
    "out_preds = lasso.predict(X_test)\n",
    "\n",
    "#evaluate\n",
    "print(\"Model Evaluation Report\")\n",
    "print(f\"The In Sample R2 Score: {r2_score(y_train, in_preds)}\")\n",
    "print(f\"The In Sample MSE: {mean_squared_error(y_train, in_preds)}\")\n",
    "print()\n",
    "print(f\"The Out Sample R2 Score: {r2_score(y_test, out_preds)}\")\n",
    "print(f\"The Out Sample MSE: {mean_squared_error(y_test, out_preds)}\")"
   ]
  },
  {
   "cell_type": "code",
   "execution_count": 22,
   "metadata": {
    "scrolled": true
   },
   "outputs": [
    {
     "name": "stdout",
     "output_type": "stream",
     "text": [
      "Model Evaluation Report\n",
      "The In Sample R2 Score: 0.42527145983442205\n",
      "The In Sample MSE: 110845.32213581557\n",
      "\n",
      "The Out Sample R2 Score: 0.44377328594707566\n",
      "The Out Sample MSE: 125720.28410868238\n"
     ]
    }
   ],
   "source": [
    "#Initialize ElasticNet Model\n",
    "en = ElasticNet()\n",
    "\n",
    "# fit\n",
    "en.fit(X_train, y_train)\n",
    "\n",
    "# predict\n",
    "in_preds = en.predict(X_train)\n",
    "out_preds = en.predict(X_test)\n",
    "\n",
    "#evaluate\n",
    "print(\"Model Evaluation Report\")\n",
    "print(f\"The In Sample R2 Score: {r2_score(y_train, in_preds)}\")\n",
    "print(f\"The In Sample MSE: {mean_squared_error(y_train, in_preds)}\")\n",
    "print()\n",
    "print(f\"The Out Sample R2 Score: {r2_score(y_test, out_preds)}\")\n",
    "print(f\"The Out Sample MSE: {mean_squared_error(y_test, out_preds)}\")"
   ]
  },
  {
   "cell_type": "markdown",
   "metadata": {},
   "source": [
    "# Tree Models"
   ]
  },
  {
   "cell_type": "code",
   "execution_count": 23,
   "metadata": {},
   "outputs": [],
   "source": [
    "from sklearn.tree import DecisionTreeRegressor\n",
    "from sklearn.ensemble import RandomForestRegressor\n",
    "from sklearn.ensemble import AdaBoostRegressor\n",
    "from sklearn.ensemble import GradientBoostingRegressor\n",
    "from sklearn.neighbors import KNeighborsClassifier\n",
    "from sklearn import neighbors\n",
    "from sklearn import svm\n",
    "from sklearn.metrics import mean_squared_error "
   ]
  },
  {
   "cell_type": "code",
   "execution_count": 24,
   "metadata": {
    "scrolled": false
   },
   "outputs": [
    {
     "name": "stdout",
     "output_type": "stream",
     "text": [
      "Model Evaluation Report\n",
      "The In Sample R2 Score: 1.0\n",
      "The In Sample RMSE: 0.0\n",
      "\n",
      "The Out Sample R2 Score: 0.7470490089403761\n",
      "The Out Sample MSE: 57172.857142857145\n"
     ]
    },
    {
     "data": {
      "image/png": "[encoded data removed]",
      "text/plain": [
       "<Figure size 720x432 with 1 Axes>"
      ]
     },
     "metadata": {
      "needs_background": "light"
     },
     "output_type": "display_data"
    }
   ],
   "source": [
    "#Initialize Decision Tree Model\n",
    "dt = DecisionTreeRegressor()\n",
    "\n",
    "# fit\n",
    "dt.fit(X_train, y_train)\n",
    "\n",
    "# predict\n",
    "in_preds = dt.predict(X_train)\n",
    "out_preds = dt.predict(X_test)\n",
    "\n",
    "#evaluate\n",
    "print(\"Model Evaluation Report\")\n",
    "print(f\"The In Sample R2 Score: {r2_score(y_train, in_preds)}\")\n",
    "print(f\"The In Sample RMSE: {np.sqrt(mean_squared_error(y_train, in_preds))}\")\n",
    "print()\n",
    "print(f\"The Out Sample R2 Score: {r2_score(y_test, out_preds)}\")\n",
    "print(f\"The Out Sample MSE: {mean_squared_error(y_test, out_preds)}\")\n",
    "\n",
    "# make Plot\n",
    "plt.figure(figsize=(10,6))\n",
    "plt.scatter(y_test, out_preds)\n",
    "plt.plot(y_test, y_test)\n",
    "plt.xlabel(\"Actual\")\n",
    "plt.ylabel(\"Predictions\")\n",
    "plt.title(\"Actual vs Predicted\", fontsize=18, fontweight=\"bold\")\n",
    "plt.show()"
   ]
  },
  {
   "cell_type": "code",
   "execution_count": 25,
   "metadata": {},
   "outputs": [
    {
     "name": "stdout",
     "output_type": "stream",
     "text": [
      "Model Evaluation Report\n",
      "The In Sample R2 Score: 0.9714453338480108\n",
      "The In Sample RMSE: 74.21058350167135\n",
      "\n",
      "The Out Sample R2 Score: 0.8883958101001377\n",
      "The Out Sample MSE: 25225.164680952377\n"
     ]
    },
    {
     "data": {
      "image/png": "[encoded data removed]",
      "text/plain": [
       "<Figure size 720x432 with 1 Axes>"
      ]
     },
     "metadata": {
      "needs_background": "light"
     },
     "output_type": "display_data"
    }
   ],
   "source": [
    "#Initialize Random Forest Model\n",
    "rf = RandomForestRegressor()\n",
    "\n",
    "# fit\n",
    "rf.fit(X_train, y_train)\n",
    "\n",
    "# predict\n",
    "in_preds = rf.predict(X_train)\n",
    "out_preds = rf.predict(X_test)\n",
    "\n",
    "#evaluate\n",
    "print(\"Model Evaluation Report\")\n",
    "print(f\"The In Sample R2 Score: {r2_score(y_train, in_preds)}\")\n",
    "print(f\"The In Sample RMSE: {np.sqrt(mean_squared_error(y_train, in_preds))}\")\n",
    "print()\n",
    "print(f\"The Out Sample R2 Score: {r2_score(y_test, out_preds)}\")\n",
    "print(f\"The Out Sample MSE: {mean_squared_error(y_test, out_preds)}\")\n",
    "\n",
    "# make Plot\n",
    "plt.figure(figsize=(10,6))\n",
    "plt.scatter(y_test, out_preds)\n",
    "plt.plot(y_test, y_test)\n",
    "plt.xlabel(\"Actual\")\n",
    "plt.ylabel(\"Predictions\")\n",
    "plt.title(\"Actual vs Predicted\", fontsize=18, fontweight=\"bold\")\n",
    "plt.show()"
   ]
  },
  {
   "cell_type": "code",
   "execution_count": 26,
   "metadata": {},
   "outputs": [
    {
     "name": "stdout",
     "output_type": "stream",
     "text": [
      "Model Evaluation Report\n",
      "The In Sample R2 Score: 0.9559283766839399\n",
      "The In Sample RMSE: 92.19488492928983\n",
      "\n",
      "The Out Sample R2 Score: 0.8479431039609285\n",
      "The Out Sample MSE: 34368.42511828283\n"
     ]
    },
    {
     "data": {
      "image/png": "[encoded data removed]",
      "text/plain": [
       "<Figure size 720x432 with 1 Axes>"
      ]
     },
     "metadata": {
      "needs_background": "light"
     },
     "output_type": "display_data"
    }
   ],
   "source": [
    "#Initialize Ada Boost Model\n",
    "ada = AdaBoostRegressor()\n",
    "\n",
    "# fit\n",
    "ada.fit(X_train, y_train)\n",
    "\n",
    "# predict\n",
    "in_preds = ada.predict(X_train)\n",
    "out_preds = ada.predict(X_test)\n",
    "\n",
    "#evaluate\n",
    "print(\"Model Evaluation Report\")\n",
    "print(f\"The In Sample R2 Score: {r2_score(y_train, in_preds)}\")\n",
    "print(f\"The In Sample RMSE: {np.sqrt(mean_squared_error(y_train, in_preds))}\")\n",
    "print()\n",
    "print(f\"The Out Sample R2 Score: {r2_score(y_test, out_preds)}\")\n",
    "print(f\"The Out Sample MSE: {mean_squared_error(y_test, out_preds)}\")\n",
    "\n",
    "# make Plot\n",
    "plt.figure(figsize=(10,6))\n",
    "plt.scatter(y_test, out_preds)\n",
    "plt.plot(y_test, y_test)\n",
    "plt.xlabel(\"Actual\")\n",
    "plt.ylabel(\"Predictions\")\n",
    "plt.title(\"Actual vs Predicted\", fontsize=18, fontweight=\"bold\")\n",
    "plt.show()"
   ]
  },
  {
   "cell_type": "code",
   "execution_count": 27,
   "metadata": {},
   "outputs": [
    {
     "name": "stdout",
     "output_type": "stream",
     "text": [
      "Model Evaluation Report\n",
      "The In Sample R2 Score: 0.9963531841710648\n",
      "The In Sample RMSE: 26.520653322002005\n",
      "\n",
      "The Out Sample R2 Score: 0.8783716802709612\n",
      "The Out Sample MSE: 27490.853146153404\n"
     ]
    },
    {
     "data": {
      "image/png": "[encoded data removed]",
      "text/plain": [
       "<Figure size 720x432 with 1 Axes>"
      ]
     },
     "metadata": {
      "needs_background": "light"
     },
     "output_type": "display_data"
    }
   ],
   "source": [
    "#Initialize Gradient Boost Model\n",
    "gb = GradientBoostingRegressor()\n",
    "\n",
    "# fit\n",
    "gb.fit(X_train, y_train)\n",
    "\n",
    "# predict\n",
    "in_preds = gb.predict(X_train)\n",
    "out_preds = gb.predict(X_test)\n",
    "\n",
    "#evaluate\n",
    "print(\"Model Evaluation Report\")\n",
    "print(f\"The In Sample R2 Score: {r2_score(y_train, in_preds)}\")\n",
    "print(f\"The In Sample RMSE: {np.sqrt(mean_squared_error(y_train, in_preds))}\")\n",
    "print()\n",
    "print(f\"The Out Sample R2 Score: {r2_score(y_test, out_preds)}\")\n",
    "print(f\"The Out Sample MSE: {mean_squared_error(y_test, out_preds)}\")\n",
    "\n",
    "# make Plot\n",
    "plt.figure(figsize=(10,6))\n",
    "plt.scatter(y_test, out_preds)\n",
    "plt.plot(y_test, y_test)\n",
    "plt.xlabel(\"Actual\")\n",
    "plt.ylabel(\"Predictions\")\n",
    "plt.title(\"Actual vs Predicted\", fontsize=18, fontweight=\"bold\")\n",
    "plt.show()"
   ]
  },
  {
   "cell_type": "markdown",
   "metadata": {},
   "source": [
    "# KNN Model"
   ]
  },
  {
   "cell_type": "code",
   "execution_count": 28,
   "metadata": {},
   "outputs": [
    {
     "name": "stdout",
     "output_type": "stream",
     "text": [
      "MSE value for k=  1 is: 53476.619047619046\n",
      "The Out Sample R2 Score: 0.7634023475018306\n",
      "MSE value for k=  2 is: 25967.916666666668\n",
      "The Out Sample R2 Score: 0.8851096379498028\n",
      "MSE value for k=  3 is: 26620.211640211648\n",
      "The Out Sample R2 Score: 0.8822236765291739\n",
      "MSE value for k=  4 is: 34262.30357142857\n",
      "The Out Sample R2 Score: 0.8484126195980863\n",
      "MSE value for k=  5 is: 28779.868571428575\n",
      "The Out Sample R2 Score: 0.8726686640914518\n",
      "MSE value for k=  6 is: 28897.84391534391\n",
      "The Out Sample R2 Score: 0.8721467034679095\n",
      "MSE value for k=  7 is: 30449.623906705547\n",
      "The Out Sample R2 Score: 0.865281132874846\n",
      "MSE value for k=  8 is: 33395.807291666664\n",
      "The Out Sample R2 Score: 0.8522462760509655\n",
      "MSE value for k=  9 is: 33276.0152851264\n",
      "The Out Sample R2 Score: 0.8527762741705219\n",
      "MSE value for k=  10 is: 33870.350952380955\n",
      "The Out Sample R2 Score: 0.8501467432433115\n",
      "MSE value for k=  11 is: 32969.14521841794\n",
      "The Out Sample R2 Score: 0.8541339654138769\n",
      "MSE value for k=  12 is: 32407.828703703708\n",
      "The Out Sample R2 Score: 0.8566174090581278\n",
      "MSE value for k=  13 is: 31505.976894899977\n",
      "The Out Sample R2 Score: 0.8606074896702582\n",
      "MSE value for k=  14 is: 33932.85058309039\n",
      "The Out Sample R2 Score: 0.8498702249036857\n",
      "MSE value for k=  15 is: 35102.13904761905\n",
      "The Out Sample R2 Score: 0.8446969190603539\n",
      "MSE value for k=  16 is: 37394.919270833336\n",
      "The Out Sample R2 Score: 0.8345529266358576\n",
      "MSE value for k=  17 is: 35056.72713791399\n",
      "The Out Sample R2 Score: 0.844897835861435\n",
      "MSE value for k=  18 is: 36014.55202821869\n",
      "The Out Sample R2 Score: 0.8406601124491039\n",
      "MSE value for k=  19 is: 34462.88840522359\n",
      "The Out Sample R2 Score: 0.8475251681913253\n",
      "MSE value for k=  20 is: 37169.00845238096\n",
      "The Out Sample R2 Score: 0.8355524282923138\n"
     ]
    }
   ],
   "source": [
    "rmse_val = [] #to store rmse values for different k\n",
    "for K in range(20):\n",
    "    K = K+1\n",
    "    model = neighbors.KNeighborsRegressor(n_neighbors = K)\n",
    "    model.fit(X_train, y_train)  #fit the model\n",
    "    pred=model.predict(X_test) #make prediction on test set\n",
    "    error = mean_squared_error(y_test,pred) #calculate rmse\n",
    "    rmse_val.append(error) #store rmse values\n",
    "    print('MSE value for k= ' , K , 'is:', error)\n",
    "    print(f\"The Out Sample R2 Score: {r2_score(y_test, pred)}\")"
   ]
  },
  {
   "cell_type": "code",
   "execution_count": 29,
   "metadata": {},
   "outputs": [
    {
     "data": {
      "text/plain": [
       "<matplotlib.axes._subplots.AxesSubplot at 0x1894cb1e340>"
      ]
     },
     "execution_count": 29,
     "metadata": {},
     "output_type": "execute_result"
    },
    {
     "data": {
      "image/png": "[encoded data removed]",
      "text/plain": [
       "<Figure size 432x288 with 1 Axes>"
      ]
     },
     "metadata": {
      "needs_background": "light"
     },
     "output_type": "display_data"
    }
   ],
   "source": [
    "#elbow curve \n",
    "curve = pd.DataFrame(rmse_val)\n",
    "curve.plot()"
   ]
  },
  {
   "cell_type": "markdown",
   "metadata": {},
   "source": [
    "# SVM Model"
   ]
  },
  {
   "cell_type": "code",
   "execution_count": 30,
   "metadata": {},
   "outputs": [
    {
     "name": "stdout",
     "output_type": "stream",
     "text": [
      "Model Evaluation Report\n",
      "The In Sample R2 Score: -0.030438662289616225\n",
      "The In Sample RMSE: 445.7982665813619\n",
      "\n",
      "The Out Sample R2 Score: -0.020033842365799304\n",
      "The Out Sample MSE: 230551.574066429\n"
     ]
    },
    {
     "data": {
      "image/png": "[encoded data removed]",
      "text/plain": [
       "<Figure size 720x432 with 1 Axes>"
      ]
     },
     "metadata": {
      "needs_background": "light"
     },
     "output_type": "display_data"
    }
   ],
   "source": [
    "#Initialize SVM Model\n",
    "from sklearn import svm\n",
    "svm = svm.SVR()\n",
    "\n",
    "# fit\n",
    "svm.fit(X_train, y_train)\n",
    "\n",
    "# predict\n",
    "in_preds = svm.predict(X_train)\n",
    "out_preds = svm.predict(X_test)\n",
    "\n",
    "#evaluate\n",
    "print(\"Model Evaluation Report\")\n",
    "print(f\"The In Sample R2 Score: {r2_score(y_train, in_preds)}\")\n",
    "print(f\"The In Sample RMSE: {np.sqrt(mean_squared_error(y_train, in_preds))}\")\n",
    "print()\n",
    "print(f\"The Out Sample R2 Score: {r2_score(y_test, out_preds)}\")\n",
    "print(f\"The Out Sample MSE: {mean_squared_error(y_test, out_preds)}\")\n",
    "\n",
    "# make Plot\n",
    "plt.figure(figsize=(10,6))\n",
    "plt.scatter(y_test, out_preds)\n",
    "plt.plot(y_test, y_test)\n",
    "plt.xlabel(\"Actual\")\n",
    "plt.ylabel(\"Predictions\")\n",
    "plt.title(\"Actual vs Predicted\", fontsize=18, fontweight=\"bold\")\n",
    "plt.show()"
   ]
  },
  {
   "cell_type": "markdown",
   "metadata": {},
   "source": [
    "# Model Selection"
   ]
  },
  {
   "cell_type": "code",
   "execution_count": 31,
   "metadata": {},
   "outputs": [],
   "source": [
    "# We chose the Random Forest Model because it had one of the highest combinations of a high r2 score and low MSE score"
   ]
  },
  {
   "cell_type": "code",
   "execution_count": 32,
   "metadata": {},
   "outputs": [
    {
     "name": "stdout",
     "output_type": "stream",
     "text": [
      "Model Evaluation Report\n",
      "The In Sample R2 Score: 0.9761492510125006\n",
      "The In Sample MSE: 4761.234212621359\n"
     ]
    }
   ],
   "source": [
    "#Initialize Random Forest Model\n",
    "rf_final = RandomForestRegressor()\n",
    "\n",
    "# fit\n",
    "rf_final.fit(X, y)\n",
    "\n",
    "# predict\n",
    "in_preds = rf_final.predict(X)\n",
    "\n",
    "#evaluate\n",
    "print(\"Model Evaluation Report\")\n",
    "print(f\"The In Sample R2 Score: {r2_score(y, in_preds)}\")\n",
    "print(f\"The In Sample MSE: {mean_squared_error(y, in_preds)}\")"
   ]
  },
  {
   "cell_type": "markdown",
   "metadata": {},
   "source": [
    "# Save Model"
   ]
  },
  {
   "cell_type": "code",
   "execution_count": 33,
   "metadata": {},
   "outputs": [],
   "source": [
    "import pickle"
   ]
  },
  {
   "cell_type": "code",
   "execution_count": 34,
   "metadata": {},
   "outputs": [],
   "source": [
    "# save model to disk\n",
    "filename = 'finalized_model.sav'\n",
    "pickle.dump(rf_final, open(filename, 'wb'))"
   ]
  },
  {
   "cell_type": "code",
   "execution_count": 35,
   "metadata": {},
   "outputs": [],
   "source": [
    "saved_x_scaler = 'saved_x_scaler.sav'\n",
    "pickle.dump(x_scaler, open(saved_x_scaler, 'wb'))"
   ]
  },
  {
   "cell_type": "code",
   "execution_count": 36,
   "metadata": {},
   "outputs": [],
   "source": [
    "my_new_model = pickle.load(open(filename, 'rb'))"
   ]
  },
  {
   "cell_type": "markdown",
   "metadata": {},
   "source": [
    "# Test Model"
   ]
  },
  {
   "cell_type": "code",
   "execution_count": 37,
   "metadata": {},
   "outputs": [
    {
     "data": {
      "text/plain": [
       "array([1973.92,  844.64, 1097.33, 1731.36, 1396.47, 1229.3 ,  864.1 ,\n",
       "       1824.97,  745.59,  943.45, 1352.88, 1974.33,  727.02,  855.36,\n",
       "       1013.99, 1072.51,  774.08, 1847.47,  538.99, 1799.13,  786.8 ])"
      ]
     },
     "execution_count": 37,
     "metadata": {},
     "output_type": "execute_result"
    }
   ],
   "source": [
    "my_new_model.predict(X_test)"
   ]
  },
  {
   "cell_type": "code",
   "execution_count": 38,
   "metadata": {},
   "outputs": [
    {
     "data": {
      "text/plain": [
       "array([1092.2])"
      ]
     },
     "execution_count": 38,
     "metadata": {},
     "output_type": "execute_result"
    }
   ],
   "source": [
    "#Prediction\n",
    "prediction = my_new_model.predict([[.6, .7, .5, .03]])\n",
    "prediction"
   ]
  },
  {
   "cell_type": "markdown",
   "metadata": {},
   "source": [
    "# Testing User Input Scale Code"
   ]
  },
  {
   "cell_type": "code",
   "execution_count": 39,
   "metadata": {},
   "outputs": [],
   "source": [
    "#User Input Scaler - Test\n",
    "user_input = [2000, 300, 70, 350]"
   ]
  },
  {
   "cell_type": "code",
   "execution_count": 40,
   "metadata": {},
   "outputs": [
    {
     "data": {
      "text/plain": [
       "array([[1.83269476, 1.15540541, 0.53450314, 0.65891473]])"
      ]
     },
     "execution_count": 40,
     "metadata": {},
     "output_type": "execute_result"
    }
   ],
   "source": [
    "user_input_scaled = x_scaler.transform([user_input])\n",
    "user_input_scaled"
   ]
  },
  {
   "cell_type": "code",
   "execution_count": 41,
   "metadata": {},
   "outputs": [
    {
     "data": {
      "text/plain": [
       "array([1281.92])"
      ]
     },
     "execution_count": 41,
     "metadata": {},
     "output_type": "execute_result"
    }
   ],
   "source": [
    "new_prediction = my_new_model.predict(user_input_scaled)\n",
    "new_prediction"
   ]
  }
 ],
 "metadata": {
  "kernelspec": {
   "display_name": "Python 3",
   "language": "python",
   "name": "python3"
  },
  "language_info": {
   "codemirror_mode": {
    "name": "ipython",
    "version": 3
   },
   "file_extension": ".py",
   "mimetype": "text/x-python",
   "name": "python",
   "nbconvert_exporter": "python",
   "pygments_lexer": "ipython3",
   "version": "3.8.3"
  }
 },
 "nbformat": 4,
 "nbformat_minor": 4
}
